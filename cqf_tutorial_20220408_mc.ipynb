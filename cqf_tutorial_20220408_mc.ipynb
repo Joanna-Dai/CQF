{
 "cells": [
  {
   "cell_type": "code",
   "execution_count": 1,
   "id": "c239bec1",
   "metadata": {},
   "outputs": [],
   "source": [
    "# import libraries\n",
    "import numpy as np"
   ]
  },
  {
   "cell_type": "code",
   "execution_count": 7,
   "id": "b140b80f",
   "metadata": {},
   "outputs": [
    {
     "name": "stdout",
     "output_type": "stream",
     "text": [
      "0.33546224943232916\n"
     ]
    }
   ],
   "source": [
    "# monte carlo approximation on expectation\n",
    "\n",
    "sum = 0.0\n",
    "n = 10\n",
    "for i in range(n):\n",
    "    U = np.random.uniform() # U(0.1)\n",
    "    Y = U**2\n",
    "    sum += Y\n",
    "\n",
    "expectation = sum/n\n",
    "\n",
    "print(expectation)"
   ]
  },
  {
   "cell_type": "code",
   "execution_count": 6,
   "id": "1ddbbee7",
   "metadata": {},
   "outputs": [
    {
     "name": "stdout",
     "output_type": "stream",
     "text": [
      "0.2500861125012724\n"
     ]
    }
   ],
   "source": [
    "sum = 0.0\n",
    "n = 100000\n",
    "for i in range(n):\n",
    "    U = np.random.uniform()\n",
    "    Y = U**3\n",
    "    sum += Y\n",
    "\n",
    "expectation = sum/n\n",
    "\n",
    "print(expectation)"
   ]
  },
  {
   "cell_type": "code",
   "execution_count": null,
   "id": "cd0b1c69",
   "metadata": {},
   "outputs": [],
   "source": []
  }
 ],
 "metadata": {
  "hide_input": false,
  "kernelspec": {
   "display_name": "Python 3 (ipykernel)",
   "language": "python",
   "name": "python3"
  },
  "language_info": {
   "codemirror_mode": {
    "name": "ipython",
    "version": 3
   },
   "file_extension": ".py",
   "mimetype": "text/x-python",
   "name": "python",
   "nbconvert_exporter": "python",
   "pygments_lexer": "ipython3",
   "version": "3.8.11"
  },
  "latex_envs": {
   "LaTeX_envs_menu_present": true,
   "autoclose": false,
   "autocomplete": true,
   "bibliofile": "biblio.bib",
   "cite_by": "apalike",
   "current_citInitial": 1,
   "eqLabelWithNumbers": true,
   "eqNumInitial": 1,
   "hotkeys": {
    "equation": "Ctrl-E",
    "itemize": "Ctrl-I"
   },
   "labels_anchors": false,
   "latex_user_defs": false,
   "report_style_numbering": false,
   "user_envs_cfg": false
  },
  "toc": {
   "base_numbering": 1,
   "nav_menu": {},
   "number_sections": true,
   "sideBar": true,
   "skip_h1_title": false,
   "title_cell": "Table of Contents",
   "title_sidebar": "Contents",
   "toc_cell": false,
   "toc_position": {},
   "toc_section_display": true,
   "toc_window_display": false
  },
  "varInspector": {
   "cols": {
    "lenName": 16,
    "lenType": 16,
    "lenVar": 40
   },
   "kernels_config": {
    "python": {
     "delete_cmd_postfix": "",
     "delete_cmd_prefix": "del ",
     "library": "var_list.py",
     "varRefreshCmd": "print(var_dic_list())"
    },
    "r": {
     "delete_cmd_postfix": ") ",
     "delete_cmd_prefix": "rm(",
     "library": "var_list.r",
     "varRefreshCmd": "cat(var_dic_list()) "
    }
   },
   "types_to_exclude": [
    "module",
    "function",
    "builtin_function_or_method",
    "instance",
    "_Feature"
   ],
   "window_display": false
  }
 },
 "nbformat": 4,
 "nbformat_minor": 5
}
