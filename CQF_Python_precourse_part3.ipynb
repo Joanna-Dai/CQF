{
 "cells": [
  {
   "cell_type": "code",
   "execution_count": 10,
   "id": "6622b537",
   "metadata": {},
   "outputs": [
    {
     "data": {
      "image/png": "[encoded data removed]",
      "text/latex": [
       "$\\displaystyle \\left(x + 1\\right)^{2} \\left(2 x + 1\\right)$"
      ],
      "text/plain": [
       "       2          \n",
       "(x + 1) ⋅(2⋅x + 1)"
      ]
     },
     "execution_count": 10,
     "metadata": {},
     "output_type": "execute_result"
    }
   ],
   "source": [
    "# symbolic algebra\n",
    "\n",
    "import sympy as sp\n",
    "from sympy import init_printing\n",
    "init_printing()\n",
    "from sympy import init_session\n",
    "\n",
    "x=Symbol('x')\n",
    "(2*x+1)*(x+1)**2"
   ]
  },
  {
   "cell_type": "code",
   "execution_count": 14,
   "id": "14b1c57e",
   "metadata": {},
   "outputs": [
    {
     "data": {
      "image/png": "[encoded data removed]",
      "text/latex": [
       "$\\displaystyle 2 x^{3} - 3 x^{2} + 1$"
      ],
      "text/plain": [
       "   3      2    \n",
       "2⋅x  - 3⋅x  + 1"
      ]
     },
     "execution_count": 14,
     "metadata": {},
     "output_type": "execute_result"
    }
   ],
   "source": [
    "sp.expand((2*x+1)*(x-1)**2)"
   ]
  },
  {
   "cell_type": "code",
   "execution_count": 16,
   "id": "d60faf47",
   "metadata": {},
   "outputs": [
    {
     "data": {
      "image/png": "[encoded data removed]",
      "text/latex": [
       "$\\displaystyle \\left(x - 1\\right)^{2} \\left(2 x + 1\\right)$"
      ],
      "text/plain": [
       "       2          \n",
       "(x - 1) ⋅(2⋅x + 1)"
      ]
     },
     "execution_count": 16,
     "metadata": {},
     "output_type": "execute_result"
    }
   ],
   "source": [
    "sp.factor(2*x**3-3*x**2+1)"
   ]
  },
  {
   "cell_type": "code",
   "execution_count": 22,
   "id": "024190b1",
   "metadata": {},
   "outputs": [
    {
     "data": {
      "image/png": "[encoded data removed]",
      "text/latex": [
       "$\\displaystyle \\sin{\\left(a \\right)} \\cos{\\left(b \\right)} + \\sin{\\left(b \\right)} \\cos{\\left(a \\right)}$"
      ],
      "text/plain": [
       "sin(a)⋅cos(b) + sin(b)⋅cos(a)"
      ]
     },
     "execution_count": 22,
     "metadata": {},
     "output_type": "execute_result"
    }
   ],
   "source": [
    "a,b=symbols('a,b')\n",
    "sp.expand(sin(a+b),trig=True) #trigonometry is useful for differentiation"
   ]
  },
  {
   "cell_type": "code",
   "execution_count": 24,
   "id": "39b71e14",
   "metadata": {},
   "outputs": [
    {
     "data": {
      "image/png": "[encoded data removed]",
      "text/latex": [
       "$\\displaystyle - \\cos{\\left(x \\right)}$"
      ],
      "text/plain": [
       "-cos(x)"
      ]
     },
     "execution_count": 24,
     "metadata": {},
     "output_type": "execute_result"
    }
   ],
   "source": [
    "sp.simplify(sin(x-pi/2))"
   ]
  },
  {
   "cell_type": "code",
   "execution_count": 26,
   "id": "2344723d",
   "metadata": {},
   "outputs": [
    {
     "data": {
      "image/png": "[encoded data removed]",
      "text/latex": [
       "$\\displaystyle - i$"
      ],
      "text/plain": [
       "-ⅈ"
      ]
     },
     "execution_count": 26,
     "metadata": {},
     "output_type": "execute_result"
    }
   ],
   "source": [
    "I**3"
   ]
  },
  {
   "cell_type": "code",
   "execution_count": 32,
   "id": "58c92f80",
   "metadata": {},
   "outputs": [
    {
     "data": {
      "image/png": "[encoded data removed]",
      "text/latex": [
       "$\\displaystyle \\left( \\left(x + \\pi\\right)^{4}, \\  4 \\left(x + \\pi\\right)^{3}, \\  12 \\left(x + \\pi\\right)^{2}, \\  24 \\left(x + \\pi\\right)\\right)$"
      ],
      "text/plain": [
       "⎛       4           3            2            ⎞\n",
       "⎝(x + π) , 4⋅(x + π) , 12⋅(x + π) , 24⋅(x + π)⎠"
      ]
     },
     "execution_count": 32,
     "metadata": {},
     "output_type": "execute_result"
    }
   ],
   "source": [
    "x, y=symbols('x,y')\n",
    "y=(x+pi)**4\n",
    "ydash=diff(y,x)\n",
    "y, ydash, diff(y,x,x), diff(y,x,x,x)"
   ]
  },
  {
   "cell_type": "code",
   "execution_count": 33,
   "id": "52bb93c3",
   "metadata": {},
   "outputs": [
    {
     "data": {
      "image/png": "[encoded data removed]",
      "text/latex": [
       "$\\displaystyle - e^{x} \\sin{\\left(x \\right)} + e^{x} \\cos{\\left(x \\right)}$"
      ],
      "text/plain": [
       "   x           x       \n",
       "- ℯ ⋅sin(x) + ℯ ⋅cos(x)"
      ]
     },
     "execution_count": 33,
     "metadata": {},
     "output_type": "execute_result"
    }
   ],
   "source": [
    "y=sp.exp(x)*sp.cos(x)\n",
    "dy_dx=diff(y,x)\n",
    "dy_dx"
   ]
  },
  {
   "cell_type": "code",
   "execution_count": 35,
   "id": "38475157",
   "metadata": {},
   "outputs": [
    {
     "data": {
      "image/png": "[encoded data removed]",
      "text/latex": [
       "$\\displaystyle \\left( y e^{x z} \\cos{\\left(x y \\right)} + z e^{x z} \\sin{\\left(x y \\right)}, \\  x e^{x z} \\cos{\\left(x y \\right)}, \\  x e^{x z} \\sin{\\left(x y \\right)}\\right)$"
      ],
      "text/plain": [
       "⎛   x⋅z               x⋅z              x⋅z              x⋅z         ⎞\n",
       "⎝y⋅ℯ   ⋅cos(x⋅y) + z⋅ℯ   ⋅sin(x⋅y), x⋅ℯ   ⋅cos(x⋅y), x⋅ℯ   ⋅sin(x⋅y)⎠"
      ]
     },
     "execution_count": 35,
     "metadata": {},
     "output_type": "execute_result"
    }
   ],
   "source": [
    "x,y,z=symbols('x,y,z')\n",
    "f=sp.sin(x*y)*sp.exp(x*z)\n",
    "diff(f,x), diff(f,y), diff(f,z)"
   ]
  },
  {
   "cell_type": "code",
   "execution_count": 42,
   "id": "e309a354",
   "metadata": {},
   "outputs": [
    {
     "data": {
      "image/png": "[encoded data removed]",
      "text/latex": [
       "$\\displaystyle \\left( - \\cos{\\left(x \\right)}, \\  1\\right)$"
      ],
      "text/plain": [
       "(-cos(x), 1)"
      ]
     },
     "execution_count": 42,
     "metadata": {},
     "output_type": "execute_result"
    }
   ],
   "source": [
    "y=sp.sin(x)\n",
    "sp.integrate(y,x),sp.integrate(y,(x,0,pi/2))"
   ]
  },
  {
   "cell_type": "code",
   "execution_count": 41,
   "id": "5b9d72ec",
   "metadata": {},
   "outputs": [
    {
     "data": {
      "image/png": "[encoded data removed]",
      "text/latex": [
       "$\\displaystyle \\left( e^{- x^{2}}, \\  \\sqrt{\\pi}\\right)$"
      ],
      "text/plain": [
       "⎛   2    ⎞\n",
       "⎜ -x     ⎟\n",
       "⎝ℯ   , √π⎠"
      ]
     },
     "execution_count": 41,
     "metadata": {},
     "output_type": "execute_result"
    }
   ],
   "source": [
    "f=sp.exp(-x**2)\n",
    "f, sp.integrate(f,(x,-oo,oo)) #oo is sympy's infinity"
   ]
  },
  {
   "cell_type": "code",
   "execution_count": 40,
   "id": "967b2d11",
   "metadata": {},
   "outputs": [
    {
     "data": {
      "image/png": "[encoded data removed]",
      "text/latex": [
       "$\\displaystyle \\pi$"
      ],
      "text/plain": [
       "π"
      ]
     },
     "execution_count": 40,
     "metadata": {},
     "output_type": "execute_result"
    }
   ],
   "source": [
    "x,y=symbols('x,y')\n",
    "F=sp.exp(-x**2-y**2)\n",
    "sp.integrate(F,(x,-oo,oo),(y,-oo,oo)) # integrate x and then integrate y"
   ]
  },
  {
   "cell_type": "code",
   "execution_count": 43,
   "id": "2f1ef248",
   "metadata": {},
   "outputs": [
    {
     "name": "stdout",
     "output_type": "stream",
     "text": [
      "[[[0.88964095 0.39773249 0.11618306 0.16809814]\n",
      "  [0.96928041 0.39973135 0.57884194 0.57838115]]\n",
      "\n",
      " [[0.33498536 0.96183847 0.08749676 0.13250355]\n",
      "  [0.5852773  0.9492881  0.54634527 0.123684  ]]\n",
      "\n",
      " [[0.21373312 0.49932549 0.97164025 0.0044294 ]\n",
      "  [0.91656494 0.16337398 0.73830091 0.94420764]]]\n"
     ]
    }
   ],
   "source": [
    "import numpy as np\n",
    "x=np.random.rand(3,2,4) # rand is U(0,1) random generator, size: 3 lots of 2 rows & 4 colmns \n",
    "print(x)"
   ]
  },
  {
   "cell_type": "code",
   "execution_count": 44,
   "id": "7499a962",
   "metadata": {},
   "outputs": [
    {
     "name": "stdout",
     "output_type": "stream",
     "text": [
      "[[[ 0.14057415 -0.42265745  0.20933136  0.93795363]\n",
      "  [-1.05745873 -0.22254564  0.13961572 -0.64025796]]\n",
      "\n",
      " [[ 1.45165926 -0.11120898 -0.20750063 -0.43193125]\n",
      "  [ 0.52277738  0.30290156 -0.79913138  0.53576142]]\n",
      "\n",
      " [[ 1.26676863 -0.94343037 -0.24835066 -0.56503453]\n",
      "  [ 0.75655425 -1.59445679 -1.39605537  1.45690352]]]\n"
     ]
    }
   ],
   "source": [
    "x=np.random.standard_normal((3,2,4))\n",
    "print(x)"
   ]
  },
  {
   "cell_type": "code",
   "execution_count": 46,
   "id": "262e8d30",
   "metadata": {},
   "outputs": [
    {
     "data": {
      "text/plain": [
       "array([[[ 7, 10,  6, 10],\n",
       "        [ 8, 10, 11,  8],\n",
       "        [ 7,  4,  5, 11]],\n",
       "\n",
       "       [[ 7,  6,  7,  3],\n",
       "        [10,  6,  6,  3],\n",
       "        [ 9,  6, 11,  5]]])"
      ]
     },
     "execution_count": 46,
     "metadata": {},
     "output_type": "execute_result"
    }
   ],
   "source": [
    "x=np.random.binomial(30,0.25, (2,3,4)) # prob of success=0.25, try 30 times\n",
    "x"
   ]
  },
  {
   "cell_type": "code",
   "execution_count": 48,
   "id": "67cc17d1",
   "metadata": {},
   "outputs": [
    {
     "data": {
      "image/png": "[encoded data removed]",
      "text/latex": [
       "$\\displaystyle 7.33333333333333$"
      ],
      "text/plain": [
       "7.333333333333333"
      ]
     },
     "execution_count": 48,
     "metadata": {},
     "output_type": "execute_result"
    }
   ],
   "source": [
    "np.mean(x)"
   ]
  },
  {
   "cell_type": "code",
   "execution_count": 50,
   "id": "49cb1628",
   "metadata": {},
   "outputs": [
    {
     "data": {
      "text/plain": [
       "(array([-9.94434069e-01,  4.69189859e-01, -1.35283517e+00, -7.78067281e-01,\n",
       "         1.11863870e+00,  3.05422713e-01,  3.08391713e-02,  1.00696592e+00,\n",
       "         5.92556875e-01,  1.10225413e+00, -6.69798138e-01,  6.79804930e-01,\n",
       "         1.20247731e+00, -1.91201294e+00, -1.71000181e+00, -1.02672686e+00,\n",
       "        -7.64137487e-01, -5.10046522e-01, -7.85799355e-01, -2.66613315e-01,\n",
       "         5.02486636e-01, -9.45294646e-01, -1.37604012e+00,  4.31623626e-01,\n",
       "         2.08602403e-01,  5.89482761e-01,  1.84564555e-02, -3.53165998e+00,\n",
       "        -7.18470361e-02, -6.27075051e-01, -1.31259525e+00,  8.86606435e-03,\n",
       "        -2.08113420e-02, -3.00235793e-01, -8.18144288e-01, -2.77975899e+00,\n",
       "        -1.38016728e+00, -1.43742415e+00,  1.22273086e+00, -1.61468620e-01,\n",
       "         6.73566342e-01, -7.54385858e-01, -3.66430198e-01,  5.92350824e-02,\n",
       "        -4.48347782e-01, -2.67580288e-01, -1.22420871e+00, -2.58352932e-01,\n",
       "         5.83925419e-01, -5.63553661e-01,  2.08374507e+00,  4.09678866e-01,\n",
       "         1.46426952e+00,  2.53433381e+00, -4.47782666e-01,  9.77831496e-01,\n",
       "        -2.97858699e+00,  6.00850645e-01, -1.63856198e+00,  4.01540647e-01,\n",
       "         3.54053930e-01,  1.33589454e+00,  2.76067491e-01, -6.89161106e-01,\n",
       "         5.99383703e-01, -6.34942629e-01, -3.06772595e-01, -4.68322694e-01,\n",
       "         2.24955371e-01,  2.64998543e-01,  4.38882332e-01, -9.79129422e-01,\n",
       "        -2.74768466e-01, -2.87460873e-01, -2.88902848e-01, -3.79297628e-01,\n",
       "        -7.34918303e-01,  8.21231691e-01, -3.98830680e-01,  6.82573274e-02,\n",
       "         1.53425455e+00, -1.32901509e+00,  8.15621823e-02,  1.85690800e-01,\n",
       "         1.05748241e-01, -9.96271020e-01, -1.19536778e+00, -4.17865142e-01,\n",
       "         1.30476644e+00,  8.69783787e-01, -2.38076822e-01,  1.05296942e-01,\n",
       "         1.53095920e-01,  1.86130377e-01, -7.13009334e-01,  5.71261709e-01,\n",
       "         4.43917293e-01, -4.49930981e-01, -2.66152761e-03, -1.32368639e+00]),\n",
       " -0.17384569416988005,\n",
       " 0.971441270794014,\n",
       " 0.9856172029718302)"
      ]
     },
     "execution_count": 50,
     "metadata": {},
     "output_type": "execute_result"
    }
   ],
   "source": [
    "x=np.random.normal(0,1,(100))\n",
    "x,x.mean(),x.var(),x.std()"
   ]
  },
  {
   "cell_type": "code",
   "execution_count": 51,
   "id": "b8660626",
   "metadata": {},
   "outputs": [
    {
     "data": {
      "image/png": "[encoded data removed]",
      "text/plain": [
       "<Figure size 432x288 with 1 Axes>"
      ]
     },
     "metadata": {
      "needs_background": "light"
     },
     "output_type": "display_data"
    }
   ],
   "source": [
    "import matplotlib.pyplot as plt\n",
    "X=np.random.standard_normal(50000)\n",
    "plt.hist(X,bins=100,color='pink')\n",
    "plt.title('$N(0,1)$')\n",
    "plt.show()"
   ]
  },
  {
   "cell_type": "code",
   "execution_count": 54,
   "id": "6d196942",
   "metadata": {},
   "outputs": [
    {
     "data": {
      "image/png": "[encoded data removed]",
      "text/plain": [
       "<Figure size 432x288 with 1 Axes>"
      ]
     },
     "metadata": {
      "needs_background": "light"
     },
     "output_type": "display_data"
    }
   ],
   "source": [
    "Z=np.random.uniform(-3,3,(50000))\n",
    "plt.hist(Z,bins=100)\n",
    "plt.title('U(-3,3)')\n",
    "plt.show()"
   ]
  }
 ],
 "metadata": {
  "kernelspec": {
   "display_name": "Python 3 (ipykernel)",
   "language": "python",
   "name": "python3"
  },
  "language_info": {
   "codemirror_mode": {
    "name": "ipython",
    "version": 3
   },
   "file_extension": ".py",
   "mimetype": "text/x-python",
   "name": "python",
   "nbconvert_exporter": "python",
   "pygments_lexer": "ipython3",
   "version": "3.8.11"
  }
 },
 "nbformat": 4,
 "nbformat_minor": 5
}
