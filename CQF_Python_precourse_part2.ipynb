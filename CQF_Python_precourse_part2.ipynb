{
 "cells": [
  {
   "cell_type": "code",
   "execution_count": 1,
   "id": "52a7a14a",
   "metadata": {},
   "outputs": [
    {
     "data": {
      "text/plain": [
       "True"
      ]
     },
     "execution_count": 1,
     "metadata": {},
     "output_type": "execute_result"
    }
   ],
   "source": [
    "6<10"
   ]
  },
  {
   "cell_type": "code",
   "execution_count": 6,
   "id": "283af725",
   "metadata": {},
   "outputs": [
    {
     "data": {
      "text/plain": [
       "True"
      ]
     },
     "execution_count": 6,
     "metadata": {},
     "output_type": "execute_result"
    }
   ],
   "source": [
    "5==10 or 5!=10"
   ]
  },
  {
   "cell_type": "code",
   "execution_count": 5,
   "id": "b8d1930e",
   "metadata": {},
   "outputs": [
    {
     "data": {
      "text/plain": [
       "True"
      ]
     },
     "execution_count": 5,
     "metadata": {},
     "output_type": "execute_result"
    }
   ],
   "source": [
    "\"dig\" < \"dog\" and \"digg\" > \"dig\""
   ]
  },
  {
   "cell_type": "code",
   "execution_count": 16,
   "id": "e7beaf16",
   "metadata": {},
   "outputs": [
    {
     "name": "stdout",
     "output_type": "stream",
     "text": [
      "['American', 'Asian', 'Bermudan', 'Binary']\n",
      "['Black Scholes', 'Asian', 'Bermudan', 'Binary']\n",
      "['Black Scholes', 'Asian', 'Bermudan', 'Binary', 'European']\n"
     ]
    }
   ],
   "source": [
    "# list\n",
    "options = [\"American\", \"Asian\", 'Bermudan','Binary']\n",
    "print(options)\n",
    "options[0] = \"Black Scholes\"\n",
    "print(options)\n",
    "options.append(\"European\")\n",
    "print(options)"
   ]
  },
  {
   "cell_type": "code",
   "execution_count": 20,
   "id": "c752efcd",
   "metadata": {},
   "outputs": [
    {
     "data": {
      "text/plain": [
       "2"
      ]
     },
     "execution_count": 20,
     "metadata": {},
     "output_type": "execute_result"
    }
   ],
   "source": [
    "# tuples: dict key, func arg\n",
    "point=(4,5,5,6)\n",
    "point.count(5)"
   ]
  },
  {
   "cell_type": "code",
   "execution_count": 21,
   "id": "e00198bc",
   "metadata": {},
   "outputs": [
    {
     "data": {
      "text/plain": [
       "(7, 'xyz')"
      ]
     },
     "execution_count": 21,
     "metadata": {},
     "output_type": "execute_result"
    }
   ],
   "source": [
    "#list to tuple\n",
    "stuff=[7,'xyz']\n",
    "y=tuple(stuff)\n",
    "y"
   ]
  },
  {
   "cell_type": "code",
   "execution_count": 26,
   "id": "e803db7e",
   "metadata": {},
   "outputs": [
    {
     "name": "stdout",
     "output_type": "stream",
     "text": [
      "type a value between 0 and 10:   6\n",
      "12\n"
     ]
    }
   ],
   "source": [
    "# if else\n",
    "x = int(input(\"type a value between 0 and 10:   \"))\n",
    "if x<5:\n",
    "    x += 1\n",
    "    print(x)\n",
    "elif (x>5):\n",
    "    x *= 2\n",
    "    print(x)\n",
    "else:\n",
    "    x -= 1\n",
    "    print(x)"
   ]
  },
  {
   "cell_type": "code",
   "execution_count": 30,
   "id": "163a5a13",
   "metadata": {},
   "outputs": [
    {
     "name": "stdout",
     "output_type": "stream",
     "text": [
      "we need 23 years to reach  307 pounds.\n"
     ]
    }
   ],
   "source": [
    "# while loop\n",
    "mymoney=100\n",
    "rate=1.05\n",
    "years=0\n",
    "while mymoney < 300:\n",
    "    mymoney = mymoney * rate\n",
    "    years+=1\n",
    "print(\"we need\",years, \"years to reach \", int(mymoney),\"pounds.\")"
   ]
  },
  {
   "cell_type": "code",
   "execution_count": 33,
   "id": "db3c27f4",
   "metadata": {},
   "outputs": [
    {
     "name": "stdout",
     "output_type": "stream",
     "text": [
      "1 1\n",
      "2 5\n",
      "3 14\n",
      "4 30\n",
      "5 55\n",
      "6 91\n",
      "7 140\n",
      "8 204\n",
      "9 285\n",
      "10 385\n"
     ]
    }
   ],
   "source": [
    "# for loop\n",
    "n=10\n",
    "sum=0\n",
    "for n in range(1,n+1):\n",
    "    sum += n**2\n",
    "    print(n,sum)"
   ]
  },
  {
   "cell_type": "code",
   "execution_count": 36,
   "id": "8f13887b",
   "metadata": {},
   "outputs": [
    {
     "name": "stdout",
     "output_type": "stream",
     "text": [
      "['DirEntry', 'F_OK', 'MutableMapping', 'O_APPEND', 'O_BINARY', 'O_CREAT', 'O_EXCL', 'O_NOINHERIT', 'O_RANDOM', 'O_RDONLY', 'O_RDWR', 'O_SEQUENTIAL', 'O_SHORT_LIVED', 'O_TEMPORARY', 'O_TEXT', 'O_TRUNC', 'O_WRONLY', 'P_DETACH', 'P_NOWAIT', 'P_NOWAITO', 'P_OVERLAY', 'P_WAIT', 'PathLike', 'R_OK', 'SEEK_CUR', 'SEEK_END', 'SEEK_SET', 'TMP_MAX', 'W_OK', 'X_OK', '_AddedDllDirectory', '_Environ', '__all__', '__builtins__', '__cached__', '__doc__', '__file__', '__loader__', '__name__', '__package__', '__spec__', '_check_methods', '_execvpe', '_exists', '_exit', '_fspath', '_get_exports_list', '_putenv', '_unsetenv', '_wrap_close', 'abc', 'abort', 'access', 'add_dll_directory', 'altsep', 'chdir', 'chmod', 'close', 'closerange', 'cpu_count', 'curdir', 'defpath', 'device_encoding', 'devnull', 'dup', 'dup2', 'environ', 'error', 'execl', 'execle', 'execlp', 'execlpe', 'execv', 'execve', 'execvp', 'execvpe', 'extsep', 'fdopen', 'fsdecode', 'fsencode', 'fspath', 'fstat', 'fsync', 'ftruncate', 'get_exec_path', 'get_handle_inheritable', 'get_inheritable', 'get_terminal_size', 'getcwd', 'getcwdb', 'getenv', 'getlogin', 'getpid', 'getppid', 'isatty', 'kill', 'linesep', 'link', 'listdir', 'lseek', 'lstat', 'makedirs', 'mkdir', 'name', 'open', 'pardir', 'path', 'pathsep', 'pipe', 'popen', 'putenv', 'read', 'readlink', 'remove', 'removedirs', 'rename', 'renames', 'replace', 'rmdir', 'scandir', 'sep', 'set_handle_inheritable', 'set_inheritable', 'spawnl', 'spawnle', 'spawnv', 'spawnve', 'st', 'startfile', 'stat', 'stat_result', 'statvfs_result', 'strerror', 'supports_bytes_environ', 'supports_dir_fd', 'supports_effective_ids', 'supports_fd', 'supports_follow_symlinks', 'symlink', 'sys', 'system', 'terminal_size', 'times', 'times_result', 'truncate', 'umask', 'uname_result', 'unlink', 'urandom', 'utime', 'waitpid', 'walk', 'write']\n",
      "C:\\Users\\user\\CQF\n"
     ]
    }
   ],
   "source": [
    "import os\n",
    "print(dir(os)) # all the methods available under the module"
   ]
  },
  {
   "cell_type": "code",
   "execution_count": 38,
   "id": "7d213469",
   "metadata": {},
   "outputs": [
    {
     "data": {
      "text/plain": [
       "'C:\\\\Users\\\\user\\\\CQF'"
      ]
     },
     "execution_count": 38,
     "metadata": {},
     "output_type": "execute_result"
    }
   ],
   "source": [
    "os.getcwd()"
   ]
  },
  {
   "cell_type": "code",
   "execution_count": 41,
   "id": "a21c5a7c",
   "metadata": {},
   "outputs": [
    {
     "data": {
      "text/plain": [
       "['.git',\n",
       " '.ipynb_checkpoints',\n",
       " 'CQF_Python_precourse_part1.ipynb',\n",
       " 'CQF_Python_precourse_part2.ipynb']"
      ]
     },
     "execution_count": 41,
     "metadata": {},
     "output_type": "execute_result"
    }
   ],
   "source": [
    "os.listdir(os.getcwd())"
   ]
  },
  {
   "cell_type": "code",
   "execution_count": 52,
   "id": "8eb4ec24",
   "metadata": {},
   "outputs": [],
   "source": [
    "os.makedirs('maths/analysis/complex/probelm sheets')"
   ]
  },
  {
   "cell_type": "code",
   "execution_count": 51,
   "id": "75ee780d",
   "metadata": {},
   "outputs": [],
   "source": [
    "os.removedirs('maths/analysis/complex/probelm sheets') # remove all dir"
   ]
  },
  {
   "cell_type": "code",
   "execution_count": 53,
   "id": "0439ba8c",
   "metadata": {},
   "outputs": [],
   "source": [
    "os.rmdir('maths/analysis/complex/probelm sheets') # remove sub dir"
   ]
  },
  {
   "cell_type": "code",
   "execution_count": 55,
   "id": "610e89a4",
   "metadata": {},
   "outputs": [],
   "source": [
    "os.rename(\"sample.txt\",\"rename.txt\")"
   ]
  },
  {
   "cell_type": "code",
   "execution_count": 57,
   "id": "660bd079",
   "metadata": {},
   "outputs": [
    {
     "name": "stdout",
     "output_type": "stream",
     "text": [
      "Enter message here:add oil Joanna\n",
      "add oil Joanna\n"
     ]
    }
   ],
   "source": [
    "# function\n",
    "def printthis(string):\n",
    "    print(string)\n",
    "    return None\n",
    "\n",
    "# call func\n",
    "message=input(\"Enter message here:\")\n",
    "printthis(message)"
   ]
  },
  {
   "cell_type": "code",
   "execution_count": 58,
   "id": "5de78eaf",
   "metadata": {},
   "outputs": [
    {
     "name": "stdout",
     "output_type": "stream",
     "text": [
      "2 4\n"
     ]
    }
   ],
   "source": [
    "def square(x):\n",
    "    return x**2\n",
    "\n",
    "x = 2\n",
    "y = square(x)\n",
    "print(x,y)"
   ]
  },
  {
   "cell_type": "code",
   "execution_count": 62,
   "id": "29684b5e",
   "metadata": {},
   "outputs": [
    {
     "name": "stdout",
     "output_type": "stream",
     "text": [
      "enter value a real value\n",
      "0.3\n",
      "The prob. that X< 0.3 is 0.6179113580156126\n"
     ]
    }
   ],
   "source": [
    "# approximation for CDF of N(0,1)\n",
    "import math\n",
    "def CDF(X):\n",
    "    (a1,a2,a3,a4,a5) = (0.319381530, -0.356563782, 1.781477937, -1.821255978, 1.330274429)\n",
    "    x=abs(X)\n",
    "    k=1/(1+0.2316419*x)\n",
    "    n=(1/math.sqrt(2*math.pi))*math.exp(-0.5*x**2)\n",
    "    N=1.0-n*(a1*k+a2*k**2+a3*pow(k,3)+a4*pow(k,4)+a5*pow(k,5)) # taylor expansion\n",
    "    if X<0:\n",
    "        N=1.0-N\n",
    "    return N\n",
    "\n",
    "X=float(input(\"enter value a real value\\n\"))\n",
    "print(\"The prob. that X<\",X,\"is\",CDF(X))"
   ]
  },
  {
   "cell_type": "code",
   "execution_count": 63,
   "id": "8eebaecc",
   "metadata": {},
   "outputs": [
    {
     "name": "stdout",
     "output_type": "stream",
     "text": [
      "please input stock price:100\n",
      "please input the strike price:100\n",
      "please input risk free return:0.05\n",
      "please input dividend yield of the stock:0.0\n",
      "please input the volatility of the stock:0.2\n",
      "please input expiry:1\n",
      "please input the current time:0\n",
      "The call has price,  10.450575619322272\n",
      "The put has price,  5.573518069393678\n"
     ]
    }
   ],
   "source": [
    "# option pricing\n",
    "from math import *\n",
    "\n",
    "def CDF(X):\n",
    "    (a1,a2,a3,a4,a5) = (0.319381530, -0.356563782, 1.781477937, -1.821255978, 1.330274429)\n",
    "    x=abs(X)\n",
    "    k=1/(1+0.2316419*x)\n",
    "    n=(1/sqrt(2*math.pi))*exp(-0.5*x**2)\n",
    "    N=1.0-n*(a1*k+a2*k**2+a3*pow(k,3)+a4*pow(k,4)+a5*pow(k,5)) # taylor expansion\n",
    "    if X<0:\n",
    "        N=1.0-N\n",
    "    return N\n",
    "\n",
    "def d1(stock, strike, r, sigma, div, tau):\n",
    "    Moneyness=log(stock/strike, e)\n",
    "    shift=r-div+0.5*sigma**2\n",
    "    d1=(Moneyness+shift*tau)/(sigma*sqrt(tau))\n",
    "    return d1\n",
    "\n",
    "def d2(d1, sigma, tau):\n",
    "    d2=d1-sigma*sqrt(T-t)\n",
    "    return d2\n",
    "\n",
    "def call_option(d1, d2, stock, div, strike, r, tau):\n",
    "    call=stock*exp(-div*tau)*CDF(d1)-exp(-r*tau)*strike*CDF(d2)\n",
    "    return call\n",
    "\n",
    "def put_option(d1, d2, stock, div, strike, r, tau):\n",
    "    put=-stock*exp(-div*tau)*CDF(-d1)+exp(-r*(T-t))*strike*CDF(-d2)\n",
    "    return put\n",
    "\n",
    "# call functions\n",
    "stock=float(input(\"please input stock price:\"))\n",
    "strike=float(input(\"please input the strike price:\"))\n",
    "r=float(input(\"please input risk free return:\"))\n",
    "div=float(input(\"please input dividend yield of the stock:\"))\n",
    "sigma=float(input(\"please input the volatility of the stock:\"))\n",
    "T=float(input(\"please input expiry:\"))\n",
    "t=float(input(\"please input the current time:\"))\n",
    "tau=T-t\n",
    "d1=d1(stock, strike, r, sigma, div, tau)\n",
    "d2=d2(d1, sigma, tau)\n",
    "\n",
    "print(\"The call has price, \", call_option(d1, d2, stock, div, strike, r, tau))\n",
    "print(\"The put has price, \", put_option(d1, d2, stock, div, strike, r, tau))"
   ]
  },
  {
   "cell_type": "code",
   "execution_count": 65,
   "id": "e45d69cc",
   "metadata": {},
   "outputs": [
    {
     "data": {
      "text/plain": [
       "14"
      ]
     },
     "execution_count": 65,
     "metadata": {},
     "output_type": "execute_result"
    }
   ],
   "source": [
    "(lambda x, y, z: x**2+y**2+z**2)(1,2,3) # de facto function"
   ]
  },
  {
   "cell_type": "code",
   "execution_count": 70,
   "id": "eed2308f",
   "metadata": {},
   "outputs": [
    {
     "name": "stdout",
     "output_type": "stream",
     "text": [
      "14.779097425045506\n",
      "29.557209616335456\n"
     ]
    }
   ],
   "source": [
    "# differentiation\n",
    "import math\n",
    "\n",
    "# first derivative\n",
    "def f_dash(f,x,dx):\n",
    "    return(f(x+dx)-f(x-dx))/(2*dx)\n",
    "# second derivative\n",
    "def f_d_dash(f,x,dx):\n",
    "    return(f(x-dx)-2*f(x)+f(x+dx))/(dx**2)\n",
    "\n",
    "# call func\n",
    "def function(x):\n",
    "    return math.exp(2*x)\n",
    "\n",
    "print(f_dash(function, 1.0, 1/100))\n",
    "print(f_d_dash(function, 1.0, 1/100))"
   ]
  },
  {
   "cell_type": "code",
   "execution_count": 71,
   "id": "ca7c3b1c",
   "metadata": {},
   "outputs": [],
   "source": [
    "# numpy\n",
    "import numpy as np\n",
    "\n",
    "data=[6,7.5,8,0,-1]\n",
    "array=np.array(data)"
   ]
  },
  {
   "cell_type": "code",
   "execution_count": 73,
   "id": "149763ce",
   "metadata": {},
   "outputs": [],
   "source": [
    "a=np.array([[1,2],[3,4]])\n",
    "b=np.array([5,6])\n",
    "c=np.array([3,2])"
   ]
  },
  {
   "cell_type": "code",
   "execution_count": 74,
   "id": "21499053",
   "metadata": {},
   "outputs": [
    {
     "name": "stdout",
     "output_type": "stream",
     "text": [
      "[[1 2]\n",
      " [3 4]]\n",
      "1 2\n"
     ]
    }
   ],
   "source": [
    "print(a)\n",
    "print(a[0,0],a[0,1])"
   ]
  },
  {
   "cell_type": "code",
   "execution_count": 75,
   "id": "5ab0c049",
   "metadata": {},
   "outputs": [
    {
     "name": "stdout",
     "output_type": "stream",
     "text": [
      "[0. 0. 0.]\n"
     ]
    }
   ],
   "source": [
    "A=np.zeros(3)\n",
    "print(A)"
   ]
  },
  {
   "cell_type": "code",
   "execution_count": 77,
   "id": "bc19195c",
   "metadata": {},
   "outputs": [
    {
     "data": {
      "text/plain": [
       "array([[1., 1., 1.],\n",
       "       [1., 1., 1.]])"
      ]
     },
     "execution_count": 77,
     "metadata": {},
     "output_type": "execute_result"
    }
   ],
   "source": [
    "B=np.ones((2,3))\n",
    "B"
   ]
  },
  {
   "cell_type": "code",
   "execution_count": 83,
   "id": "e2d9776d",
   "metadata": {},
   "outputs": [
    {
     "data": {
      "text/plain": [
       "array([[0, 1, 2],\n",
       "       [3, 4, 5],\n",
       "       [6, 7, 8]])"
      ]
     },
     "execution_count": 83,
     "metadata": {},
     "output_type": "execute_result"
    }
   ],
   "source": [
    "C=np.arange(9).reshape(3,3)\n",
    "C"
   ]
  },
  {
   "cell_type": "code",
   "execution_count": 84,
   "id": "31ac5e46",
   "metadata": {},
   "outputs": [
    {
     "data": {
      "text/plain": [
       "array([[ 15,  18,  21],\n",
       "       [ 42,  54,  66],\n",
       "       [ 69,  90, 111]])"
      ]
     },
     "execution_count": 84,
     "metadata": {},
     "output_type": "execute_result"
    }
   ],
   "source": [
    "from numpy import linalg as LA\n",
    "LA.matrix_power(C,2)"
   ]
  },
  {
   "cell_type": "code",
   "execution_count": 86,
   "id": "3b71cdb6",
   "metadata": {},
   "outputs": [
    {
     "data": {
      "text/plain": [
       "array([ 1.,  2., -3.])"
      ]
     },
     "execution_count": 86,
     "metadata": {},
     "output_type": "execute_result"
    }
   ],
   "source": [
    "# solving linear system\n",
    "A=([2,1,-2],[3,2,2],[5,4,3]) \n",
    "b=[10,1,4]\n",
    "solution=LA.solve(A,b)\n",
    "solution"
   ]
  },
  {
   "cell_type": "code",
   "execution_count": 88,
   "id": "be700656",
   "metadata": {},
   "outputs": [
    {
     "data": {
      "text/plain": [
       "(array([ 6., -3., -2.]),\n",
       " array([[ 8.16496581e-01,  5.77350269e-01,  1.56903703e-16],\n",
       "        [ 4.08248290e-01, -5.77350269e-01, -7.07106781e-01],\n",
       "        [ 4.08248290e-01, -5.77350269e-01,  7.07106781e-01]]))"
      ]
     },
     "execution_count": 88,
     "metadata": {},
     "output_type": "execute_result"
    }
   ],
   "source": [
    "# eigenvalues\n",
    "A=([3,3,3],[3,-1,1],[3,1,-1])\n",
    "LA.eig(A) # cal the e-value an e-vector"
   ]
  },
  {
   "cell_type": "code",
   "execution_count": 92,
   "id": "8799996f",
   "metadata": {},
   "outputs": [],
   "source": [
    "# graph to check patterns\n",
    "import matplotlib.pyplot as plt #https://matplotlib.org/\n",
    "from matplotlib import *\n",
    "from pylab import * # to give matlab style visuals\n",
    "import numpy as np\n"
   ]
  },
  {
   "cell_type": "code",
   "execution_count": 94,
   "id": "90cecc5d",
   "metadata": {},
   "outputs": [
    {
     "data": {
      "image/png": "[encoded data removed]",
      "text/plain": [
       "<Figure size 432x288 with 1 Axes>"
      ]
     },
     "metadata": {
      "needs_background": "light"
     },
     "output_type": "display_data"
    }
   ],
   "source": [
    "# simple line plot\n",
    "plt.plot([7,29,23,3,25])\n",
    "plt.show()"
   ]
  },
  {
   "cell_type": "code",
   "execution_count": 97,
   "id": "adbf8339",
   "metadata": {},
   "outputs": [
    {
     "name": "stdout",
     "output_type": "stream",
     "text": [
      "[-4.         -3.57894737 -3.15789474 -2.73684211 -2.31578947 -1.89473684\n",
      " -1.47368421 -1.05263158 -0.63157895 -0.21052632  0.21052632  0.63157895\n",
      "  1.05263158  1.47368421  1.89473684  2.31578947  2.73684211  3.15789474\n",
      "  3.57894737  4.        ]\n"
     ]
    },
    {
     "data": {
      "text/plain": [
       "[<matplotlib.lines.Line2D at 0x1f295d01a90>]"
      ]
     },
     "execution_count": 97,
     "metadata": {},
     "output_type": "execute_result"
    },
    {
     "data": {
      "image/png": "[encoded data removed]",
      "text/plain": [
       "<Figure size 432x288 with 1 Axes>"
      ]
     },
     "metadata": {
      "needs_background": "light"
     },
     "output_type": "display_data"
    }
   ],
   "source": [
    "x=np.linspace(-4,4,20)\n",
    "y=x\n",
    "print(x)\n",
    "plt.plot(x,y)"
   ]
  },
  {
   "cell_type": "code",
   "execution_count": 105,
   "id": "1f13ae43",
   "metadata": {},
   "outputs": [
    {
     "data": {
      "image/png": "[encoded data removed]",
      "text/plain": [
       "<Figure size 432x288 with 1 Axes>"
      ]
     },
     "metadata": {
      "needs_background": "light"
     },
     "output_type": "display_data"
    }
   ],
   "source": [
    "y=[x**3-5*x**2-30*x+4 for x in range(10)]\n",
    "plt.plot(y); # the ; suppresses any meaningless output message\n",
    "plt.xlabel('$x$')\n",
    "plt.ylabel('$y$')\n",
    "plt.title('graph of $y=x^2$')\n",
    "plt.plot(y,'ro');\n",
    "#plt.plot(x,y)"
   ]
  },
  {
   "cell_type": "code",
   "execution_count": 106,
   "id": "43c2b5d9",
   "metadata": {},
   "outputs": [
    {
     "data": {
      "image/png": "[encoded data removed]",
      "text/plain": [
       "<Figure size 432x288 with 1 Axes>"
      ]
     },
     "metadata": {
      "needs_background": "light"
     },
     "output_type": "display_data"
    }
   ],
   "source": [
    "x=np.linspace(-4,4,30)\n",
    "y1=x**2\n",
    "y2=-x**2\n",
    "y3=(x-2)**2\n",
    "plt.plot(x,y1,label='$y=x^2$')\n",
    "plt.plot(x,y2,label='$y=-x^2$')\n",
    "plt.plot(x,y3,label='$y=(x-2)^2$')\n",
    "plt.legend()\n",
    "plt.savefig('plot.png')"
   ]
  },
  {
   "cell_type": "code",
   "execution_count": 111,
   "id": "a94f05ff",
   "metadata": {},
   "outputs": [
    {
     "data": {
      "image/png": "[encoded data removed]",
      "text/plain": [
       "<Figure size 432x288 with 1 Axes>"
      ]
     },
     "metadata": {
      "needs_background": "light"
     },
     "output_type": "display_data"
    }
   ],
   "source": [
    "x=np.linspace(-4,4,50)\n",
    "y=x**4\n",
    "plt.plot(x,y,color='g', marker='*'); #change color to green and use * to plot"
   ]
  },
  {
   "cell_type": "code",
   "execution_count": 113,
   "id": "88a9ad87",
   "metadata": {},
   "outputs": [
    {
     "data": {
      "image/png": "[encoded data removed]",
      "text/plain": [
       "<Figure size 864x288 with 1 Axes>"
      ]
     },
     "metadata": {
      "needs_background": "light"
     },
     "output_type": "display_data"
    }
   ],
   "source": [
    "x=np.linspace(-4,4,10)\n",
    "plt.figure(figsize=(12,4)) # reset the figure size\n",
    "y=x**2\n",
    "plt.plot(x,y);"
   ]
  },
  {
   "cell_type": "code",
   "execution_count": 120,
   "id": "c61d18c5",
   "metadata": {},
   "outputs": [],
   "source": [
    "# defining a font style\n",
    "font_joanna={'family':'tahoma', # font\n",
    "            'color': 'darkblue', # color\n",
    "            'weight': 'bold', # bold or normal\n",
    "            'size': 18 # font size\n",
    "            }"
   ]
  },
  {
   "cell_type": "code",
   "execution_count": 121,
   "id": "4ec42a41",
   "metadata": {},
   "outputs": [
    {
     "data": {
      "text/plain": [
       "[<matplotlib.lines.Line2D at 0x1f2972bf340>]"
      ]
     },
     "execution_count": 121,
     "metadata": {},
     "output_type": "execute_result"
    },
    {
     "data": {
      "image/png": "[encoded data removed]",
      "text/plain": [
       "<Figure size 720x576 with 1 Axes>"
      ]
     },
     "metadata": {},
     "output_type": "display_data"
    }
   ],
   "source": [
    "x=np.linspace(-4,4,2)\n",
    "plt.figure(figsize=(10,8), facecolor='pink')\n",
    "y=x\n",
    "plt.title('A straight line', fontdict=font_joanna)\n",
    "plt.plot(x,y)"
   ]
  },
  {
   "cell_type": "code",
   "execution_count": 123,
   "id": "f63df0e6",
   "metadata": {},
   "outputs": [
    {
     "data": {
      "image/png": "[encoded data removed]",
      "text/plain": [
       "<Figure size 432x288 with 1 Axes>"
      ]
     },
     "metadata": {
      "needs_background": "light"
     },
     "output_type": "display_data"
    }
   ],
   "source": [
    "x=np.linspace(0.0,5.0,100)\n",
    "y=np.cos(2*np.pi*x)*np.exp(-x)\n",
    "plt.plot(x,y,'k')\n",
    "plt.title('Demand exponential decay',fontdict=font_joanna)\n",
    "plt.text(2,0.65,'$\\cos(2 \\pi t) e^{-t}$', fontdict=font_joanna) # locate to put text\n",
    "plt.show()"
   ]
  },
  {
   "cell_type": "code",
   "execution_count": 127,
   "id": "dd0b05b7",
   "metadata": {},
   "outputs": [
    {
     "data": {
      "image/png": "[encoded data removed]",
      "text/plain": [
       "<Figure size 432x288 with 1 Axes>"
      ]
     },
     "metadata": {
      "needs_background": "light"
     },
     "output_type": "display_data"
    }
   ],
   "source": [
    "r1=[-1,0.3,0.4,0.8]\n",
    "r2=[0,0.4,0.5,0.9]\n",
    "\n",
    "plt.scatter(r1,r2)\n",
    "plt.grid()\n",
    "plt.xlim(-1.0,3.0)\n",
    "plt.ylim(-1.0,1.0)\n",
    "plt.xticks([-0.5,0,0.5,1.0,1.5,2.0,2.5,3.0])\n",
    "plt.yticks(np.arange(-1,1,0.2))\n",
    "plt.show()"
   ]
  },
  {
   "cell_type": "code",
   "execution_count": 129,
   "id": "38078892",
   "metadata": {},
   "outputs": [
    {
     "data": {
      "image/png": "[encoded data removed]",
      "text/plain": [
       "<Figure size 432x288 with 1 Axes>"
      ]
     },
     "metadata": {
      "needs_background": "light"
     },
     "output_type": "display_data"
    }
   ],
   "source": [
    "from pylab import *\n",
    "y=randn(1000)\n",
    "plot(y);"
   ]
  },
  {
   "cell_type": "code",
   "execution_count": 131,
   "id": "313dd02b",
   "metadata": {},
   "outputs": [
    {
     "data": {
      "image/png": "[encoded data removed]",
      "text/plain": [
       "<Figure size 432x288 with 1 Axes>"
      ]
     },
     "metadata": {
      "needs_background": "light"
     },
     "output_type": "display_data"
    }
   ],
   "source": [
    "from numpy import *\n",
    "import numpy as np\n",
    "\n",
    "age=[1,1,1,3,3,3,5,6,7,8,9,25,26,28,31,38]\n",
    "plt.hist(age, bins=([0,10,20,30,40]))\n",
    "plt.ylim(0,18)\n",
    "plt.show()"
   ]
  },
  {
   "cell_type": "code",
   "execution_count": null,
   "id": "62b9920b",
   "metadata": {},
   "outputs": [],
   "source": []
  }
 ],
 "metadata": {
  "kernelspec": {
   "display_name": "Python 3 (ipykernel)",
   "language": "python",
   "name": "python3"
  },
  "language_info": {
   "codemirror_mode": {
    "name": "ipython",
    "version": 3
   },
   "file_extension": ".py",
   "mimetype": "text/x-python",
   "name": "python",
   "nbconvert_exporter": "python",
   "pygments_lexer": "ipython3",
   "version": "3.8.11"
  }
 },
 "nbformat": 4,
 "nbformat_minor": 5
}
