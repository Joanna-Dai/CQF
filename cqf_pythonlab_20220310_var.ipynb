{
 "cells": [
  {
   "cell_type": "code",
   "execution_count": 1,
   "id": "ac17b997",
   "metadata": {},
   "outputs": [],
   "source": [
    "# import libraries\n",
    "import pandas as pd\n",
    "import numpy as np\n",
    "from numpy.linalg import multi_dot\n",
    "\n",
    "from scipy.stats import norm\n",
    "from tabulate import tabulate\n",
    "\n",
    "import matplotlib\n",
    "import matplotlib.pyplot as plt\n",
    "\n",
    "plt.style.use('dark_background')\n",
    "matplotlib.rcParams['figure.figsize'] = [24.0, 8.0]\n",
    "matplotlib.rcParams['font.size'] = 10\n",
    "matplotlib.rcParams['lines.linewidth'] = 2.0\n",
    "matplotlib.rcParams['grid.color'] = 'black'\n",
    "\n",
    "from helper import plot_var"
   ]
  },
  {
   "cell_type": "code",
   "execution_count": 2,
   "id": "c4d4668e",
   "metadata": {},
   "outputs": [
    {
     "data": {
      "text/html": [
       "<div>\n",
       "<style scoped>\n",
       "    .dataframe tbody tr th:only-of-type {\n",
       "        vertical-align: middle;\n",
       "    }\n",
       "\n",
       "    .dataframe tbody tr th {\n",
       "        vertical-align: top;\n",
       "    }\n",
       "\n",
       "    .dataframe thead th {\n",
       "        text-align: right;\n",
       "    }\n",
       "</style>\n",
       "<table border=\"1\" class=\"dataframe\">\n",
       "  <thead>\n",
       "    <tr style=\"text-align: right;\">\n",
       "      <th></th>\n",
       "      <th>AMD</th>\n",
       "      <th>CSCO</th>\n",
       "      <th>INTC</th>\n",
       "      <th>INTU</th>\n",
       "      <th>NVDA</th>\n",
       "    </tr>\n",
       "    <tr>\n",
       "      <th>Date</th>\n",
       "      <th></th>\n",
       "      <th></th>\n",
       "      <th></th>\n",
       "      <th></th>\n",
       "      <th></th>\n",
       "    </tr>\n",
       "  </thead>\n",
       "  <tbody>\n",
       "    <tr>\n",
       "      <th>2017-01-03</th>\n",
       "      <td>11.430000</td>\n",
       "      <td>25.985624</td>\n",
       "      <td>31.972996</td>\n",
       "      <td>110.028534</td>\n",
       "      <td>25.166452</td>\n",
       "    </tr>\n",
       "    <tr>\n",
       "      <th>2017-01-04</th>\n",
       "      <td>11.430000</td>\n",
       "      <td>25.831152</td>\n",
       "      <td>31.807026</td>\n",
       "      <td>110.249054</td>\n",
       "      <td>25.753609</td>\n",
       "    </tr>\n",
       "    <tr>\n",
       "      <th>2017-01-05</th>\n",
       "      <td>11.240000</td>\n",
       "      <td>25.891224</td>\n",
       "      <td>31.754602</td>\n",
       "      <td>110.929848</td>\n",
       "      <td>25.099833</td>\n",
       "    </tr>\n",
       "    <tr>\n",
       "      <th>2017-01-06</th>\n",
       "      <td>11.320000</td>\n",
       "      <td>25.942715</td>\n",
       "      <td>31.868170</td>\n",
       "      <td>112.381989</td>\n",
       "      <td>25.435356</td>\n",
       "    </tr>\n",
       "    <tr>\n",
       "      <th>2017-01-09</th>\n",
       "      <td>11.490000</td>\n",
       "      <td>25.899809</td>\n",
       "      <td>31.981731</td>\n",
       "      <td>112.045372</td>\n",
       "      <td>26.466589</td>\n",
       "    </tr>\n",
       "    <tr>\n",
       "      <th>...</th>\n",
       "      <td>...</td>\n",
       "      <td>...</td>\n",
       "      <td>...</td>\n",
       "      <td>...</td>\n",
       "      <td>...</td>\n",
       "    </tr>\n",
       "    <tr>\n",
       "      <th>2021-12-23</th>\n",
       "      <td>146.139999</td>\n",
       "      <td>61.915154</td>\n",
       "      <td>50.922092</td>\n",
       "      <td>634.972839</td>\n",
       "      <td>296.349487</td>\n",
       "    </tr>\n",
       "    <tr>\n",
       "      <th>2021-12-27</th>\n",
       "      <td>154.360001</td>\n",
       "      <td>63.048477</td>\n",
       "      <td>51.547329</td>\n",
       "      <td>652.013062</td>\n",
       "      <td>309.397308</td>\n",
       "    </tr>\n",
       "    <tr>\n",
       "      <th>2021-12-28</th>\n",
       "      <td>153.149994</td>\n",
       "      <td>63.157833</td>\n",
       "      <td>51.368690</td>\n",
       "      <td>649.026550</td>\n",
       "      <td>303.168335</td>\n",
       "    </tr>\n",
       "    <tr>\n",
       "      <th>2021-12-29</th>\n",
       "      <td>148.259995</td>\n",
       "      <td>63.585312</td>\n",
       "      <td>51.438164</td>\n",
       "      <td>647.278564</td>\n",
       "      <td>299.958893</td>\n",
       "    </tr>\n",
       "    <tr>\n",
       "      <th>2021-12-30</th>\n",
       "      <td>145.149994</td>\n",
       "      <td>63.247307</td>\n",
       "      <td>51.348843</td>\n",
       "      <td>642.613953</td>\n",
       "      <td>295.809601</td>\n",
       "    </tr>\n",
       "  </tbody>\n",
       "</table>\n",
       "<p>1258 rows × 5 columns</p>\n",
       "</div>"
      ],
      "text/plain": [
       "                   AMD       CSCO       INTC        INTU        NVDA\n",
       "Date                                                                \n",
       "2017-01-03   11.430000  25.985624  31.972996  110.028534   25.166452\n",
       "2017-01-04   11.430000  25.831152  31.807026  110.249054   25.753609\n",
       "2017-01-05   11.240000  25.891224  31.754602  110.929848   25.099833\n",
       "2017-01-06   11.320000  25.942715  31.868170  112.381989   25.435356\n",
       "2017-01-09   11.490000  25.899809  31.981731  112.045372   26.466589\n",
       "...                ...        ...        ...         ...         ...\n",
       "2021-12-23  146.139999  61.915154  50.922092  634.972839  296.349487\n",
       "2021-12-27  154.360001  63.048477  51.547329  652.013062  309.397308\n",
       "2021-12-28  153.149994  63.157833  51.368690  649.026550  303.168335\n",
       "2021-12-29  148.259995  63.585312  51.438164  647.278564  299.958893\n",
       "2021-12-30  145.149994  63.247307  51.348843  642.613953  295.809601\n",
       "\n",
       "[1258 rows x 5 columns]"
      ]
     },
     "execution_count": 2,
     "metadata": {},
     "output_type": "execute_result"
    }
   ],
   "source": [
    "# load data\n",
    "df = pd.read_csv('data/nasdaqstocks.csv', index_col=0, parse_dates=True)\n",
    "df"
   ]
  },
  {
   "cell_type": "code",
   "execution_count": 3,
   "id": "29a7d5b9",
   "metadata": {},
   "outputs": [
    {
     "data": {
      "text/html": [
       "<div>\n",
       "<style scoped>\n",
       "    .dataframe tbody tr th:only-of-type {\n",
       "        vertical-align: middle;\n",
       "    }\n",
       "\n",
       "    .dataframe tbody tr th {\n",
       "        vertical-align: top;\n",
       "    }\n",
       "\n",
       "    .dataframe thead th {\n",
       "        text-align: right;\n",
       "    }\n",
       "</style>\n",
       "<table border=\"1\" class=\"dataframe\">\n",
       "  <thead>\n",
       "    <tr style=\"text-align: right;\">\n",
       "      <th></th>\n",
       "      <th>AMD</th>\n",
       "      <th>CSCO</th>\n",
       "      <th>INTC</th>\n",
       "      <th>INTU</th>\n",
       "      <th>NVDA</th>\n",
       "    </tr>\n",
       "    <tr>\n",
       "      <th>Date</th>\n",
       "      <th></th>\n",
       "      <th></th>\n",
       "      <th></th>\n",
       "      <th></th>\n",
       "      <th></th>\n",
       "    </tr>\n",
       "  </thead>\n",
       "  <tbody>\n",
       "    <tr>\n",
       "      <th>2017-01-04</th>\n",
       "      <td>0.000000</td>\n",
       "      <td>-0.005945</td>\n",
       "      <td>-0.005191</td>\n",
       "      <td>0.002004</td>\n",
       "      <td>0.023331</td>\n",
       "    </tr>\n",
       "    <tr>\n",
       "      <th>2017-01-05</th>\n",
       "      <td>-0.016623</td>\n",
       "      <td>0.002326</td>\n",
       "      <td>-0.001648</td>\n",
       "      <td>0.006175</td>\n",
       "      <td>-0.025386</td>\n",
       "    </tr>\n",
       "    <tr>\n",
       "      <th>2017-01-06</th>\n",
       "      <td>0.007117</td>\n",
       "      <td>0.001989</td>\n",
       "      <td>0.003576</td>\n",
       "      <td>0.013091</td>\n",
       "      <td>0.013368</td>\n",
       "    </tr>\n",
       "    <tr>\n",
       "      <th>2017-01-09</th>\n",
       "      <td>0.015018</td>\n",
       "      <td>-0.001654</td>\n",
       "      <td>0.003563</td>\n",
       "      <td>-0.002995</td>\n",
       "      <td>0.040543</td>\n",
       "    </tr>\n",
       "    <tr>\n",
       "      <th>2017-01-10</th>\n",
       "      <td>-0.004352</td>\n",
       "      <td>0.006627</td>\n",
       "      <td>-0.001912</td>\n",
       "      <td>-0.003433</td>\n",
       "      <td>-0.007551</td>\n",
       "    </tr>\n",
       "  </tbody>\n",
       "</table>\n",
       "</div>"
      ],
      "text/plain": [
       "                 AMD      CSCO      INTC      INTU      NVDA\n",
       "Date                                                        \n",
       "2017-01-04  0.000000 -0.005945 -0.005191  0.002004  0.023331\n",
       "2017-01-05 -0.016623  0.002326 -0.001648  0.006175 -0.025386\n",
       "2017-01-06  0.007117  0.001989  0.003576  0.013091  0.013368\n",
       "2017-01-09  0.015018 -0.001654  0.003563 -0.002995  0.040543\n",
       "2017-01-10 -0.004352  0.006627 -0.001912 -0.003433 -0.007551"
      ]
     },
     "execution_count": 3,
     "metadata": {},
     "output_type": "execute_result"
    }
   ],
   "source": [
    "# calculate returns\n",
    "returns = df.pct_change().dropna()\n",
    "returns.head()"
   ]
  },
  {
   "cell_type": "code",
   "execution_count": 4,
   "id": "eb1b2f8c",
   "metadata": {},
   "outputs": [
    {
     "data": {
      "image/png": "[encoded data removed]",
      "text/plain": [
       "<Figure size 1728x576 with 5 Axes>"
      ]
     },
     "metadata": {},
     "output_type": "display_data"
    }
   ],
   "source": [
    "# visualize daily returns\n",
    "fig, ax = plt.subplots(1, len(df.columns), sharey=True)\n",
    "label, color = df.columns, ['green', 'red', 'cornflowerblue', 'orange', 'white']\n",
    "\n",
    "for i in range(len(df.columns)):\n",
    "    ax[i].plot(returns.iloc[:,i], label = label[i], color = color[i])\n",
    "    ax[i].axhline(y=0, color='k', linestyle='--')\n",
    "    ax[i].legend(loc=4)\n",
    "    \n",
    "fig.suptitle('Daily Returns');"
   ]
  },
  {
   "cell_type": "markdown",
   "id": "456478b5",
   "metadata": {},
   "source": [
    "## parametric VaR"
   ]
  },
  {
   "cell_type": "code",
   "execution_count": 5,
   "id": "84bfb4a8",
   "metadata": {},
   "outputs": [
    {
     "data": {
      "image/png": "[encoded data removed]",
      "text/plain": [
       "<Figure size 576x432 with 1 Axes>"
      ]
     },
     "metadata": {},
     "output_type": "display_data"
    }
   ],
   "source": [
    "plot_var()"
   ]
  },
  {
   "cell_type": "code",
   "execution_count": 6,
   "id": "29269e87",
   "metadata": {},
   "outputs": [],
   "source": [
    "# calculate mean and standard deviation\n",
    "mean = np.mean(returns['AMD'])\n",
    "stdev = np.std(returns['AMD'])\n",
    "\n",
    "# calculate VaR at different confidence levels\n",
    "VaR_90 = norm.ppf(1-0.90, mean, stdev)\n",
    "VaR_95 = norm.ppf(1-0.95, mean, stdev)\n",
    "VaR_99 = norm.ppf(1-0.99, mean, stdev)"
   ]
  },
  {
   "cell_type": "code",
   "execution_count": 7,
   "id": "4e327ff6",
   "metadata": {},
   "outputs": [
    {
     "data": {
      "text/plain": [
       "-2.3263478740408408"
      ]
     },
     "execution_count": 7,
     "metadata": {},
     "output_type": "execute_result"
    }
   ],
   "source": [
    "# test z score\n",
    "norm.ppf(0.01)"
   ]
  },
  {
   "cell_type": "code",
   "execution_count": 8,
   "id": "5dd62c52",
   "metadata": {},
   "outputs": [
    {
     "name": "stdout",
     "output_type": "stream",
     "text": [
      "Confidence Level      Value at Risk\n",
      "------------------  ---------------\n",
      "90%                      -0.0427205\n",
      "95%                      -0.0555824\n",
      "99%                      -0.0797091\n"
     ]
    }
   ],
   "source": [
    "# output result in tabular format\n",
    "table = [['90%', VaR_90],['95%', VaR_95],['99%', VaR_99]]\n",
    "header = ['Confidence Level', 'Value at Risk']\n",
    "print(tabulate(table, headers=header))"
   ]
  },
  {
   "cell_type": "code",
   "execution_count": 9,
   "id": "77def81b",
   "metadata": {},
   "outputs": [],
   "source": [
    "# VaR function\n",
    "def VaR(dataframe):\n",
    "    var = pd.DataFrame()\n",
    "    \n",
    "    for i in [90, 95, 99]:\n",
    "        for j in range(len(df.columns)):\n",
    "            var.loc[i,j] = 100 * norm.ppf(1-i/100, dataframe.iloc[:,j].mean(), dataframe.iloc[:,j].std())\n",
    "    \n",
    "    var.columns = df.columns\n",
    "    return var"
   ]
  },
  {
   "cell_type": "code",
   "execution_count": 10,
   "id": "ff159d38",
   "metadata": {},
   "outputs": [
    {
     "data": {
      "text/html": [
       "<div>\n",
       "<style scoped>\n",
       "    .dataframe tbody tr th:only-of-type {\n",
       "        vertical-align: middle;\n",
       "    }\n",
       "\n",
       "    .dataframe tbody tr th {\n",
       "        vertical-align: top;\n",
       "    }\n",
       "\n",
       "    .dataframe thead th {\n",
       "        text-align: right;\n",
       "    }\n",
       "</style>\n",
       "<table border=\"1\" class=\"dataframe\">\n",
       "  <thead>\n",
       "    <tr style=\"text-align: right;\">\n",
       "      <th></th>\n",
       "      <th>AMD</th>\n",
       "      <th>CSCO</th>\n",
       "      <th>INTC</th>\n",
       "      <th>INTU</th>\n",
       "      <th>NVDA</th>\n",
       "    </tr>\n",
       "  </thead>\n",
       "  <tbody>\n",
       "    <tr>\n",
       "      <th>90</th>\n",
       "      <td>-4.273859</td>\n",
       "      <td>-2.101122</td>\n",
       "      <td>-2.739468</td>\n",
       "      <td>-2.341609</td>\n",
       "      <td>-3.558122</td>\n",
       "    </tr>\n",
       "    <tr>\n",
       "      <th>95</th>\n",
       "      <td>-5.560556</td>\n",
       "      <td>-2.720967</td>\n",
       "      <td>-3.533579</td>\n",
       "      <td>-3.050610</td>\n",
       "      <td>-4.634949</td>\n",
       "    </tr>\n",
       "    <tr>\n",
       "      <th>99</th>\n",
       "      <td>-7.974186</td>\n",
       "      <td>-3.883692</td>\n",
       "      <td>-5.023199</td>\n",
       "      <td>-4.380577</td>\n",
       "      <td>-6.654898</td>\n",
       "    </tr>\n",
       "  </tbody>\n",
       "</table>\n",
       "</div>"
      ],
      "text/plain": [
       "         AMD      CSCO      INTC      INTU      NVDA\n",
       "90 -4.273859 -2.101122 -2.739468 -2.341609 -3.558122\n",
       "95 -5.560556 -2.720967 -3.533579 -3.050610 -4.634949\n",
       "99 -7.974186 -3.883692 -5.023199 -4.380577 -6.654898"
      ]
     },
     "execution_count": 10,
     "metadata": {},
     "output_type": "execute_result"
    }
   ],
   "source": [
    "VaR(returns)"
   ]
  },
  {
   "cell_type": "code",
   "execution_count": 11,
   "id": "d7688ea2",
   "metadata": {},
   "outputs": [
    {
     "name": "stdout",
     "output_type": "stream",
     "text": [
      "AMD Holding Value: 145149.99389648438\n",
      "AMD VaR at 99% confidence level is: -11569.77213543891\n"
     ]
    }
   ],
   "source": [
    "num_of_shares = 1000\n",
    "price = df['AMD'].iloc[-1] # latest price\n",
    "position = num_of_shares * price\n",
    "\n",
    "amd_var = position * VaR_99\n",
    "\n",
    "print(f'AMD Holding Value: {position}')\n",
    "print(f'AMD VaR at 99% confidence level is: {amd_var}')"
   ]
  },
  {
   "cell_type": "code",
   "execution_count": 12,
   "id": "56165598",
   "metadata": {},
   "outputs": [
    {
     "data": {
      "text/plain": [
       "-11569.77213543891"
      ]
     },
     "execution_count": 12,
     "metadata": {},
     "output_type": "execute_result"
    }
   ],
   "source": [
    "# VaR calculation by directly applying formula\n",
    "position * (mean + norm.ppf(1-0.99) * stdev)"
   ]
  },
  {
   "cell_type": "markdown",
   "id": "43098f5e",
   "metadata": {},
   "source": [
    "## historical VaR"
   ]
  },
  {
   "cell_type": "code",
   "execution_count": 13,
   "id": "5645ea55",
   "metadata": {},
   "outputs": [],
   "source": [
    "# use quantile function\n",
    "hVaR_90 = returns['AMD'].quantile(0.10)\n",
    "hVaR_95 = returns['AMD'].quantile(0.05)\n",
    "hVaR_99 = returns['AMD'].quantile(0.01)"
   ]
  },
  {
   "cell_type": "code",
   "execution_count": 14,
   "id": "4d50ef59",
   "metadata": {},
   "outputs": [
    {
     "name": "stdout",
     "output_type": "stream",
     "text": [
      "Confidence Level      Value at Risk\n",
      "------------------  ---------------\n",
      "90%                      -0.0334636\n",
      "95%                      -0.0504089\n",
      "99%                      -0.0887104\n"
     ]
    }
   ],
   "source": [
    "htable = [['90%', hVaR_90],['95%', hVaR_95],['99%', hVaR_99]]\n",
    "print(tabulate(htable, headers=header))"
   ]
  },
  {
   "cell_type": "markdown",
   "id": "4bbfd435",
   "metadata": {},
   "source": [
    "## MonteCarlo VaR"
   ]
  },
  {
   "cell_type": "code",
   "execution_count": 15,
   "id": "c3e3122c",
   "metadata": {},
   "outputs": [],
   "source": [
    "# set seed for reproductivity\n",
    "np.random.seed(42)\n",
    "\n",
    "# number of simulations\n",
    "n_sims = 5000\n",
    "\n",
    "# simulate returns and sort\n",
    "sim_returns = np.random.normal(mean, stdev, n_sims)\n",
    "\n",
    "# use percentile functions for MCVaR\n",
    "MCVaR_90 = np.percentile(sim_returns, 10)\n",
    "MCVaR_95 = np.percentile(sim_returns, 5)\n",
    "MCVaR_99 = np.percentile(sim_returns, 1)"
   ]
  },
  {
   "cell_type": "code",
   "execution_count": 16,
   "id": "ed7551b3",
   "metadata": {},
   "outputs": [
    {
     "name": "stdout",
     "output_type": "stream",
     "text": [
      "Confidence Level      Value at Risk\n",
      "------------------  ---------------\n",
      "90%                      -0.0422902\n",
      "95%                      -0.0544773\n",
      "99%                      -0.0810074\n"
     ]
    }
   ],
   "source": [
    "mctable = [['90%', MCVaR_90],['95%', MCVaR_95],['99%', MCVaR_99]]\n",
    "print(tabulate(mctable, headers=header))"
   ]
  },
  {
   "cell_type": "markdown",
   "id": "fe2b34bd",
   "metadata": {},
   "source": [
    "## scaling VaR"
   ]
  },
  {
   "cell_type": "code",
   "execution_count": 17,
   "id": "185de8df",
   "metadata": {},
   "outputs": [],
   "source": [
    "forecast_days = 5\n",
    "f_VaR_90 = VaR_90 * np.sqrt(forecast_days)\n",
    "f_VaR_95 = VaR_95 * np.sqrt(forecast_days)\n",
    "f_VaR_99 = VaR_99 * np.sqrt(forecast_days)"
   ]
  },
  {
   "cell_type": "code",
   "execution_count": 18,
   "id": "340a29fb",
   "metadata": {},
   "outputs": [
    {
     "name": "stdout",
     "output_type": "stream",
     "text": [
      "Confidence Level      5-Day Forecast Value at Risk\n",
      "------------------  ------------------------------\n",
      "90%                                      -0.095526\n",
      "95%                                      -0.124286\n",
      "99%                                      -0.178235\n"
     ]
    }
   ],
   "source": [
    "ftable = [['90%', f_VaR_90],['95%', f_VaR_95],['99%', f_VaR_99]]\n",
    "fheader = ['Confidence Level', '5-Day Forecast Value at Risk']\n",
    "print(tabulate(ftable, headers=fheader))"
   ]
  },
  {
   "cell_type": "code",
   "execution_count": 19,
   "id": "376d340e",
   "metadata": {},
   "outputs": [
    {
     "name": "stdout",
     "output_type": "stream",
     "text": [
      "AMD 5-day VaR at 99% confidence level is: -25870.796979024304\n"
     ]
    }
   ],
   "source": [
    "amd_var_5days = position * f_VaR_99\n",
    "print(f'AMD 5-day VaR at 99% confidence level is: {amd_var_5days}')"
   ]
  },
  {
   "cell_type": "code",
   "execution_count": 20,
   "id": "194fa30e",
   "metadata": {},
   "outputs": [
    {
     "data": {
      "image/png": "[encoded data removed]",
      "text/plain": [
       "<Figure size 1728x576 with 1 Axes>"
      ]
     },
     "metadata": {},
     "output_type": "display_data"
    }
   ],
   "source": [
    "# scaled VaR over different time horizon\n",
    "plt.plot(range(100), [-100*VaR_95*np.sqrt(x) for x in range(100)], color='orange')\n",
    "plt.xlabel('Horizon')\n",
    "plt.ylabel('95% VaR (%)')\n",
    "plt.title('95% VaR scaled by Time Horizon');"
   ]
  },
  {
   "cell_type": "markdown",
   "id": "82938664",
   "metadata": {},
   "source": [
    "## expected shortfall"
   ]
  },
  {
   "cell_type": "code",
   "execution_count": 21,
   "id": "84f158c6",
   "metadata": {},
   "outputs": [
    {
     "data": {
      "text/plain": [
       "-0.058599690545500266"
      ]
     },
     "execution_count": 21,
     "metadata": {},
     "output_type": "execute_result"
    }
   ],
   "source": [
    "# Expected Shortfall (ES) or Conditional VaR (CVaR)\n",
    "returns['AMD'][returns['AMD'] <= hVaR_90].mean()"
   ]
  },
  {
   "cell_type": "code",
   "execution_count": 22,
   "id": "44d8d7f4",
   "metadata": {},
   "outputs": [
    {
     "data": {
      "text/plain": [
       "-0.12537369305876628"
      ]
     },
     "execution_count": 22,
     "metadata": {},
     "output_type": "execute_result"
    }
   ],
   "source": [
    "returns['AMD'][returns['AMD'] <=-0.0887104].mean()"
   ]
  },
  {
   "cell_type": "code",
   "execution_count": 23,
   "id": "04b1253f",
   "metadata": {},
   "outputs": [],
   "source": [
    "CVaR_90 = returns['AMD'][returns['AMD'] <= hVaR_90].mean()\n",
    "CVaR_95 = returns['AMD'][returns['AMD'] <= hVaR_95].mean()\n",
    "CVaR_99 = returns['AMD'][returns['AMD'] <= hVaR_99].mean()"
   ]
  },
  {
   "cell_type": "code",
   "execution_count": 24,
   "id": "c1a151e1",
   "metadata": {},
   "outputs": [
    {
     "name": "stdout",
     "output_type": "stream",
     "text": [
      "Confidence Level      Conditional Value at Risk\n",
      "------------------  ---------------------------\n",
      "90%                                  -0.0585997\n",
      "95%                                  -0.0768405\n",
      "99%                                  -0.125374\n"
     ]
    }
   ],
   "source": [
    "ctable = [['90%', CVaR_90], ['95%', CVaR_95], ['99%', CVaR_99]]\n",
    "cheader = ['Confidence Level', 'Conditional Value at Risk']\n",
    "print(tabulate(ctable, headers = cheader))"
   ]
  },
  {
   "cell_type": "markdown",
   "id": "003f7a8c",
   "metadata": {},
   "source": [
    "## portfolio VaR"
   ]
  },
  {
   "cell_type": "code",
   "execution_count": 25,
   "id": "e0403c0b",
   "metadata": {},
   "outputs": [
    {
     "data": {
      "text/html": [
       "<div>\n",
       "<style scoped>\n",
       "    .dataframe tbody tr th:only-of-type {\n",
       "        vertical-align: middle;\n",
       "    }\n",
       "\n",
       "    .dataframe tbody tr th {\n",
       "        vertical-align: top;\n",
       "    }\n",
       "\n",
       "    .dataframe thead th {\n",
       "        text-align: right;\n",
       "    }\n",
       "</style>\n",
       "<table border=\"1\" class=\"dataframe\">\n",
       "  <thead>\n",
       "    <tr style=\"text-align: right;\">\n",
       "      <th></th>\n",
       "      <th>AMD</th>\n",
       "      <th>CSCO</th>\n",
       "      <th>INTC</th>\n",
       "      <th>INTU</th>\n",
       "      <th>NVDA</th>\n",
       "    </tr>\n",
       "  </thead>\n",
       "  <tbody>\n",
       "    <tr>\n",
       "      <th>0</th>\n",
       "      <td>0.0</td>\n",
       "      <td>57.71</td>\n",
       "      <td>13.14</td>\n",
       "      <td>29.16</td>\n",
       "      <td>0.0</td>\n",
       "    </tr>\n",
       "  </tbody>\n",
       "</table>\n",
       "</div>"
      ],
      "text/plain": [
       "   AMD   CSCO   INTC   INTU  NVDA\n",
       "0  0.0  57.71  13.14  29.16   0.0"
      ]
     },
     "execution_count": 25,
     "metadata": {},
     "output_type": "execute_result"
    }
   ],
   "source": [
    "# weights\n",
    "# weights from minimum variance portfolio\n",
    "weights = pd.DataFrame([0.0, 57.71, 13.14, 29.16, 0.0]).T\n",
    "weights.columns = df.columns\n",
    "weights"
   ]
  },
  {
   "cell_type": "code",
   "execution_count": 26,
   "id": "b66c2c84",
   "metadata": {},
   "outputs": [
    {
     "data": {
      "text/plain": [
       "0.10387279010613419"
      ]
     },
     "execution_count": 26,
     "metadata": {},
     "output_type": "execute_result"
    }
   ],
   "source": [
    "# portfolio returns\n",
    "port_ret = np.dot(returns, weights.T)\n",
    "port_mean = port_ret.mean()\n",
    "port_mean"
   ]
  },
  {
   "cell_type": "code",
   "execution_count": 27,
   "id": "8f5d67ee",
   "metadata": {},
   "outputs": [
    {
     "data": {
      "text/plain": [
       "1.588102372471683"
      ]
     },
     "execution_count": 27,
     "metadata": {},
     "output_type": "execute_result"
    }
   ],
   "source": [
    "# portfolio volatility\n",
    "port_stdev = np.sqrt(multi_dot([weights, returns.cov(), weights.T]))\n",
    "port_stdev.flatten()[0]"
   ]
  },
  {
   "cell_type": "code",
   "execution_count": 28,
   "id": "62155ca3",
   "metadata": {},
   "outputs": [],
   "source": [
    "# portfolio VaR\n",
    "pVaR_90 = norm.ppf(1-0.90, port_mean, port_stdev).flatten()[0]\n",
    "pVaR_95 = norm.ppf(1-0.95, port_mean, port_stdev).flatten()[0]\n",
    "pVaR_99 = norm.ppf(1-0.99, port_mean, port_stdev).flatten()[0]"
   ]
  },
  {
   "cell_type": "code",
   "execution_count": 29,
   "id": "4171a41d",
   "metadata": {
    "scrolled": true
   },
   "outputs": [
    {
     "name": "stdout",
     "output_type": "stream",
     "text": [
      "Confidence Level      Portfolio Value at Risk\n",
      "------------------  -------------------------\n",
      "90%                                  -1.93136\n",
      "95%                                  -2.50832\n",
      "99%                                  -3.59061\n"
     ]
    }
   ],
   "source": [
    "ptable = [['90%', pVaR_90], ['95%', pVaR_95], ['99%', pVaR_99]]\n",
    "pheader = ['Confidence Level', 'Portfolio Value at Risk']\n",
    "print(tabulate(ptable, headers = pheader))"
   ]
  },
  {
   "cell_type": "code",
   "execution_count": 30,
   "id": "0f477730",
   "metadata": {},
   "outputs": [
    {
     "data": {
      "text/plain": [
       "0.0"
      ]
     },
     "execution_count": 30,
     "metadata": {},
     "output_type": "execute_result"
    }
   ],
   "source": [
    "weights['AMD'][0]"
   ]
  },
  {
   "cell_type": "code",
   "execution_count": 31,
   "id": "e8d9111d",
   "metadata": {},
   "outputs": [
    {
     "name": "stdout",
     "output_type": "stream",
     "text": [
      "AMD Holding Value:  0.0\n",
      "AMD VaR at 95% confidence level: -5.560556%\n",
      "\n",
      "CSCO Holding Value:  3650002.1\n",
      "CSCO VaR at 95% confidence level: -2.7209666%\n",
      "\n",
      "INTC Holding Value:  674723.79\n",
      "INTC VaR at 95% confidence level: -3.5335789%\n",
      "\n",
      "INTU Holding Value:  1.8738623e+07\n",
      "INTU VaR at 95% confidence level: -3.0506099%\n",
      "\n",
      "NVDA Holding Value:  0.0\n",
      "NVDA VaR at 95% confidence level: -4.6349494%\n",
      "\n",
      "Portfolio Holding Value:  2.3063349e+07\n",
      "Portfolio VaR at 95% confidence level: -2.51%\n"
     ]
    }
   ],
   "source": [
    "# compare the portfolio VaR with that of the individual stocks\n",
    "portpos = 0\n",
    "for stock in df.columns:\n",
    "    pos = df[stock].iloc[-1]*1000*weights[stock][0]\n",
    "    pvar = VaR(returns)[stock].iloc[1]\n",
    "    \n",
    "    print(f'{stock} Holding Value: {pos: 0.8}')\n",
    "    print(f'{stock} VaR at 95% confidence level: {pvar: 0.8}%')\n",
    "    print()\n",
    "    \n",
    "    portpos += pos\n",
    "\n",
    "print(f'Portfolio Holding Value: {portpos: 0.8}')\n",
    "print(f'Portfolio VaR at 95% confidence level: {pVaR_95: 0.3}%')"
   ]
  }
 ],
 "metadata": {
  "kernelspec": {
   "display_name": "Python 3 (ipykernel)",
   "language": "python",
   "name": "python3"
  },
  "language_info": {
   "codemirror_mode": {
    "name": "ipython",
    "version": 3
   },
   "file_extension": ".py",
   "mimetype": "text/x-python",
   "name": "python",
   "nbconvert_exporter": "python",
   "pygments_lexer": "ipython3",
   "version": "3.8.11"
  }
 },
 "nbformat": 4,
 "nbformat_minor": 5
}
