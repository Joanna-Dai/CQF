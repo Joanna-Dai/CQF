{
 "cells": [
  {
   "cell_type": "code",
   "execution_count": 1,
   "id": "9c5bd9ef",
   "metadata": {},
   "outputs": [],
   "source": [
    "# import libraries\n",
    "# public data\n",
    "import yfinance as yf\n",
    "# data manipulation\n",
    "import pandas as pd\n",
    "import numpy as np\n",
    "# visualization\n",
    "import matplotlib.pyplot as plt\n",
    "plt.style.use('fivethirtyeight')\n",
    "# pre-processing\n",
    "from sklearn.preprocessing import MinMaxScaler, RobustScaler\n",
    "from sklearn.pipeline import Pipeline\n",
    "from sklearn.model_selection import train_test_split, TimeSeriesSplit, GridSearchCV\n",
    "# svm\n",
    "from sklearn.svm import SVR\n",
    "# metrics\n",
    "from sklearn.metrics import r2_score, mean_squared_error, mean_absolute_error, accuracy_score\n",
    "# ignore warnings\n",
    "import warnings\n",
    "warnings.filterwarnings('ignore')"
   ]
  },
  {
   "cell_type": "code",
   "execution_count": 2,
   "id": "9e20ce87",
   "metadata": {},
   "outputs": [
    {
     "data": {
      "text/html": [
       "<div>\n",
       "<style scoped>\n",
       "    .dataframe tbody tr th:only-of-type {\n",
       "        vertical-align: middle;\n",
       "    }\n",
       "\n",
       "    .dataframe tbody tr th {\n",
       "        vertical-align: top;\n",
       "    }\n",
       "\n",
       "    .dataframe thead th {\n",
       "        text-align: right;\n",
       "    }\n",
       "</style>\n",
       "<table border=\"1\" class=\"dataframe\">\n",
       "  <thead>\n",
       "    <tr style=\"text-align: right;\">\n",
       "      <th></th>\n",
       "      <th>Adj Close</th>\n",
       "    </tr>\n",
       "    <tr>\n",
       "      <th>Date</th>\n",
       "      <th></th>\n",
       "    </tr>\n",
       "  </thead>\n",
       "  <tbody>\n",
       "    <tr>\n",
       "      <th>2022-05-27</th>\n",
       "      <td>415.260010</td>\n",
       "    </tr>\n",
       "    <tr>\n",
       "      <th>2022-05-31</th>\n",
       "      <td>412.929993</td>\n",
       "    </tr>\n",
       "    <tr>\n",
       "      <th>2022-06-01</th>\n",
       "      <td>409.589996</td>\n",
       "    </tr>\n",
       "    <tr>\n",
       "      <th>2022-06-02</th>\n",
       "      <td>417.390015</td>\n",
       "    </tr>\n",
       "    <tr>\n",
       "      <th>2022-06-03</th>\n",
       "      <td>410.540009</td>\n",
       "    </tr>\n",
       "  </tbody>\n",
       "</table>\n",
       "</div>"
      ],
      "text/plain": [
       "             Adj Close\n",
       "Date                  \n",
       "2022-05-27  415.260010\n",
       "2022-05-31  412.929993\n",
       "2022-06-01  409.589996\n",
       "2022-06-02  417.390015\n",
       "2022-06-03  410.540009"
      ]
     },
     "execution_count": 2,
     "metadata": {},
     "output_type": "execute_result"
    }
   ],
   "source": [
    "# load data\n",
    "df = yf.download('SPY', start='2000-01-01',progress=False)\n",
    "df = df[['Adj Close']]\n",
    "df.tail()"
   ]
  },
  {
   "cell_type": "code",
   "execution_count": 3,
   "id": "993c84b9",
   "metadata": {},
   "outputs": [
    {
     "data": {
      "text/html": [
       "<div>\n",
       "<style scoped>\n",
       "    .dataframe tbody tr th:only-of-type {\n",
       "        vertical-align: middle;\n",
       "    }\n",
       "\n",
       "    .dataframe tbody tr th {\n",
       "        vertical-align: top;\n",
       "    }\n",
       "\n",
       "    .dataframe thead th {\n",
       "        text-align: right;\n",
       "    }\n",
       "</style>\n",
       "<table border=\"1\" class=\"dataframe\">\n",
       "  <thead>\n",
       "    <tr style=\"text-align: right;\">\n",
       "      <th></th>\n",
       "      <th>Adj Close</th>\n",
       "      <th>Target</th>\n",
       "    </tr>\n",
       "    <tr>\n",
       "      <th>Date</th>\n",
       "      <th></th>\n",
       "      <th></th>\n",
       "    </tr>\n",
       "  </thead>\n",
       "  <tbody>\n",
       "    <tr>\n",
       "      <th>2022-05-25</th>\n",
       "      <td>397.369995</td>\n",
       "      <td>417.390015</td>\n",
       "    </tr>\n",
       "    <tr>\n",
       "      <th>2022-05-26</th>\n",
       "      <td>405.309998</td>\n",
       "      <td>410.540009</td>\n",
       "    </tr>\n",
       "    <tr>\n",
       "      <th>2022-05-27</th>\n",
       "      <td>415.260010</td>\n",
       "      <td>NaN</td>\n",
       "    </tr>\n",
       "    <tr>\n",
       "      <th>2022-05-31</th>\n",
       "      <td>412.929993</td>\n",
       "      <td>NaN</td>\n",
       "    </tr>\n",
       "    <tr>\n",
       "      <th>2022-06-01</th>\n",
       "      <td>409.589996</td>\n",
       "      <td>NaN</td>\n",
       "    </tr>\n",
       "    <tr>\n",
       "      <th>2022-06-02</th>\n",
       "      <td>417.390015</td>\n",
       "      <td>NaN</td>\n",
       "    </tr>\n",
       "    <tr>\n",
       "      <th>2022-06-03</th>\n",
       "      <td>410.540009</td>\n",
       "      <td>NaN</td>\n",
       "    </tr>\n",
       "  </tbody>\n",
       "</table>\n",
       "</div>"
      ],
      "text/plain": [
       "             Adj Close      Target\n",
       "Date                              \n",
       "2022-05-25  397.369995  417.390015\n",
       "2022-05-26  405.309998  410.540009\n",
       "2022-05-27  415.260010         NaN\n",
       "2022-05-31  412.929993         NaN\n",
       "2022-06-01  409.589996         NaN\n",
       "2022-06-02  417.390015         NaN\n",
       "2022-06-03  410.540009         NaN"
      ]
     },
     "execution_count": 3,
     "metadata": {},
     "output_type": "execute_result"
    }
   ],
   "source": [
    "# n day to predict\n",
    "n = 5\n",
    "# target\n",
    "df['Target'] = df['Adj Close'].shift(-n)\n",
    "df.tail(7)"
   ]
  },
  {
   "cell_type": "code",
   "execution_count": 4,
   "id": "45ed517f",
   "metadata": {},
   "outputs": [
    {
     "data": {
      "text/plain": [
       "array([[ 97.50943756],\n",
       "       [ 96.55508423],\n",
       "       [ 92.77918243],\n",
       "       ...,\n",
       "       [393.89001465],\n",
       "       [397.36999512],\n",
       "       [405.30999756]])"
      ]
     },
     "execution_count": 4,
     "metadata": {},
     "output_type": "execute_result"
    }
   ],
   "source": [
    "# predicators\n",
    "X = df[['Adj Close']].values[:-n]\n",
    "X"
   ]
  },
  {
   "cell_type": "code",
   "execution_count": 5,
   "id": "b05ed6dd",
   "metadata": {},
   "outputs": [
    {
     "data": {
      "text/plain": [
       "array([ 96.76252747,  97.09451294,  95.93265533, ..., 409.58999634,\n",
       "       417.39001465, 410.54000854])"
      ]
     },
     "execution_count": 5,
     "metadata": {},
     "output_type": "execute_result"
    }
   ],
   "source": [
    "# labels\n",
    "y = df['Target'].values[:-n]\n",
    "y"
   ]
  },
  {
   "cell_type": "code",
   "execution_count": 6,
   "id": "98ee7f5c",
   "metadata": {},
   "outputs": [
    {
     "name": "stdout",
     "output_type": "stream",
     "text": [
      "train and test size 4510,1128\n"
     ]
    }
   ],
   "source": [
    "# split data\n",
    "X_train, X_test, y_train, y_test = train_test_split(X, y, test_size=0.2, shuffle=False)\n",
    "print(f\"train and test size {len(X_train)},{len(X_test)}\")"
   ]
  },
  {
   "cell_type": "code",
   "execution_count": 7,
   "id": "777604a6",
   "metadata": {},
   "outputs": [
    {
     "data": {
      "text/plain": [
       "Pipeline(steps=[('scaler', MinMaxScaler()),\n",
       "                ('regressor', SVR(C=1000.0, gamma=0.1))])"
      ]
     },
     "execution_count": 7,
     "metadata": {},
     "output_type": "execute_result"
    }
   ],
   "source": [
    "# fit model\n",
    "pipe = Pipeline([(\"scaler\", MinMaxScaler()), (\"regressor\", SVR(kernel='rbf', C=1e3, gamma=0.1))])\n",
    "pipe.fit(X_train, y_train)"
   ]
  },
  {
   "cell_type": "code",
   "execution_count": 8,
   "id": "c2916ca8",
   "metadata": {},
   "outputs": [
    {
     "data": {
      "text/plain": [
       "array([364.64831241, 369.54652682, 367.52641993, 369.84460522,\n",
       "       375.02161666])"
      ]
     },
     "execution_count": 8,
     "metadata": {},
     "output_type": "execute_result"
    }
   ],
   "source": [
    "# predict test\n",
    "y_pred = pipe.predict(X_test)\n",
    "y_pred[-5:] # last five predictions"
   ]
  },
  {
   "cell_type": "code",
   "execution_count": 9,
   "id": "b5a4a0e4",
   "metadata": {},
   "outputs": [
    {
     "data": {
      "text/plain": [
       "0.885911562197724"
      ]
     },
     "execution_count": 9,
     "metadata": {},
     "output_type": "execute_result"
    }
   ],
   "source": [
    "# metrics (r2_score)\n",
    "pipe.score(X_test, y_test)"
   ]
  },
  {
   "cell_type": "code",
   "execution_count": 10,
   "id": "c8b4552f",
   "metadata": {},
   "outputs": [
    {
     "name": "stdout",
     "output_type": "stream",
     "text": [
      "train accuracy:  0.9971\n",
      "test accuracy:  0.8859\n"
     ]
    }
   ],
   "source": [
    "print(f'train accuracy: {pipe.score(X_train, y_train): 0.4}')\n",
    "print(f'test accuracy: {pipe.score(X_test, y_test): 0.4}')"
   ]
  },
  {
   "cell_type": "code",
   "execution_count": 11,
   "id": "e5424b9f",
   "metadata": {},
   "outputs": [],
   "source": [
    "# hyperparamter tunnng\n",
    "# cross validation\n",
    "tscv = TimeSeriesSplit(n_splits=5)"
   ]
  },
  {
   "cell_type": "code",
   "execution_count": 12,
   "id": "ee9b1827",
   "metadata": {},
   "outputs": [
    {
     "data": {
      "text/plain": [
       "{'memory': None,\n",
       " 'steps': [('scaler', MinMaxScaler()),\n",
       "  ('regressor', SVR(C=1000.0, gamma=0.1))],\n",
       " 'verbose': False,\n",
       " 'scaler': MinMaxScaler(),\n",
       " 'regressor': SVR(C=1000.0, gamma=0.1),\n",
       " 'scaler__clip': False,\n",
       " 'scaler__copy': True,\n",
       " 'scaler__feature_range': (0, 1),\n",
       " 'regressor__C': 1000.0,\n",
       " 'regressor__cache_size': 200,\n",
       " 'regressor__coef0': 0.0,\n",
       " 'regressor__degree': 3,\n",
       " 'regressor__epsilon': 0.1,\n",
       " 'regressor__gamma': 0.1,\n",
       " 'regressor__kernel': 'rbf',\n",
       " 'regressor__max_iter': -1,\n",
       " 'regressor__shrinking': True,\n",
       " 'regressor__tol': 0.001,\n",
       " 'regressor__verbose': False}"
      ]
     },
     "execution_count": 12,
     "metadata": {},
     "output_type": "execute_result"
    }
   ],
   "source": [
    "pipe.get_params()"
   ]
  },
  {
   "cell_type": "code",
   "execution_count": 13,
   "id": "0cb28816",
   "metadata": {},
   "outputs": [
    {
     "name": "stdout",
     "output_type": "stream",
     "text": [
      "Fitting 5 folds for each of 60 candidates, totalling 300 fits\n"
     ]
    },
    {
     "data": {
      "text/plain": [
       "GridSearchCV(cv=TimeSeriesSplit(gap=0, max_train_size=None, n_splits=5, test_size=None),\n",
       "             estimator=Pipeline(steps=[('scaler', MinMaxScaler()),\n",
       "                                       ('regressor',\n",
       "                                        SVR(C=1000.0, gamma=0.1))]),\n",
       "             n_jobs=-1,\n",
       "             param_grid={'regressor__C': [0.1, 1, 10, 100, 1000],\n",
       "                         'regressor__gamma': [1e-07, 0.0001, 0.001, 0.01],\n",
       "                         'regressor__kernel': ['poly', 'rbf', 'sigmoid']},\n",
       "             verbose=1)"
      ]
     },
     "execution_count": 13,
     "metadata": {},
     "output_type": "execute_result"
    }
   ],
   "source": [
    "# gridsearch and fit\n",
    "param_grid = {\"regressor__C\": [0.1, 1, 10, 100, 1000],\n",
    "              \"regressor__kernel\": ['poly', 'rbf', 'sigmoid'],\n",
    "              \"regressor__gamma\": [1e-7, 1e-4, 1e-3, 1e-2]}\n",
    "\n",
    "gs = GridSearchCV(pipe, param_grid, n_jobs=-1, cv=tscv, verbose=1)\n",
    "gs.fit(X_train, y_train)"
   ]
  },
  {
   "cell_type": "code",
   "execution_count": 14,
   "id": "be504fd6",
   "metadata": {},
   "outputs": [
    {
     "data": {
      "text/plain": [
       "Pipeline(steps=[('scaler', MinMaxScaler()),\n",
       "                ('regressor', SVR(C=1000, gamma=0.01, kernel='sigmoid'))])"
      ]
     },
     "execution_count": 14,
     "metadata": {},
     "output_type": "execute_result"
    }
   ],
   "source": [
    "# best estimator\n",
    "gs.best_estimator_"
   ]
  },
  {
   "cell_type": "code",
   "execution_count": 15,
   "id": "6f4ffad9",
   "metadata": {},
   "outputs": [
    {
     "data": {
      "text/plain": [
       "{'regressor__C': 1000,\n",
       " 'regressor__gamma': 0.01,\n",
       " 'regressor__kernel': 'sigmoid'}"
      ]
     },
     "execution_count": 15,
     "metadata": {},
     "output_type": "execute_result"
    }
   ],
   "source": [
    "# best params\n",
    "params = gs.best_params_\n",
    "params"
   ]
  },
  {
   "cell_type": "code",
   "execution_count": 16,
   "id": "80b43b27",
   "metadata": {},
   "outputs": [
    {
     "data": {
      "text/plain": [
       "0.9719388052330512"
      ]
     },
     "execution_count": 16,
     "metadata": {},
     "output_type": "execute_result"
    }
   ],
   "source": [
    "# best score\n",
    "gs.best_score_"
   ]
  },
  {
   "cell_type": "code",
   "execution_count": 17,
   "id": "02e01695",
   "metadata": {},
   "outputs": [
    {
     "data": {
      "text/plain": [
       "array([390.66355618, 397.97164781, 394.93413934, 398.42274399,\n",
       "       406.38237853])"
      ]
     },
     "execution_count": 17,
     "metadata": {},
     "output_type": "execute_result"
    }
   ],
   "source": [
    "# predict test\n",
    "y_preds = gs.predict(X_test)\n",
    "y_preds[-5:]"
   ]
  },
  {
   "cell_type": "code",
   "execution_count": 18,
   "id": "8c2ed97a",
   "metadata": {},
   "outputs": [
    {
     "name": "stdout",
     "output_type": "stream",
     "text": [
      "train accuracy\t:  0.997137\n",
      "test accuracy\t:  0.986774\n"
     ]
    }
   ],
   "source": [
    "# metrics\n",
    "print(f\"train accuracy\\t: {gs.score(X_train, y_train): 0.6}\")\n",
    "print(f\"test accuracy\\t: {gs.score(X_test, y_test): 0.6}\")"
   ]
  },
  {
   "cell_type": "code",
   "execution_count": 19,
   "id": "92eb1aae",
   "metadata": {},
   "outputs": [
    {
     "data": {
      "text/html": [
       "<div>\n",
       "<style scoped>\n",
       "    .dataframe tbody tr th:only-of-type {\n",
       "        vertical-align: middle;\n",
       "    }\n",
       "\n",
       "    .dataframe tbody tr th {\n",
       "        vertical-align: top;\n",
       "    }\n",
       "\n",
       "    .dataframe thead th {\n",
       "        text-align: right;\n",
       "    }\n",
       "</style>\n",
       "<table border=\"1\" class=\"dataframe\">\n",
       "  <thead>\n",
       "    <tr style=\"text-align: right;\">\n",
       "      <th></th>\n",
       "      <th>X</th>\n",
       "      <th>y</th>\n",
       "      <th>X-y</th>\n",
       "    </tr>\n",
       "  </thead>\n",
       "  <tbody>\n",
       "    <tr>\n",
       "      <th>1118</th>\n",
       "      <td>389.630005</td>\n",
       "      <td>402.783514</td>\n",
       "      <td>-13.153509</td>\n",
       "    </tr>\n",
       "    <tr>\n",
       "      <th>1119</th>\n",
       "      <td>396.920013</td>\n",
       "      <td>401.149478</td>\n",
       "      <td>-4.229464</td>\n",
       "    </tr>\n",
       "    <tr>\n",
       "      <th>1120</th>\n",
       "      <td>393.890015</td>\n",
       "      <td>409.399814</td>\n",
       "      <td>-15.509799</td>\n",
       "    </tr>\n",
       "    <tr>\n",
       "      <th>1121</th>\n",
       "      <td>397.369995</td>\n",
       "      <td>392.899074</td>\n",
       "      <td>4.470921</td>\n",
       "    </tr>\n",
       "    <tr>\n",
       "      <th>1122</th>\n",
       "      <td>405.309998</td>\n",
       "      <td>390.493120</td>\n",
       "      <td>14.816877</td>\n",
       "    </tr>\n",
       "  </tbody>\n",
       "</table>\n",
       "</div>"
      ],
      "text/plain": [
       "               X           y        X-y\n",
       "1118  389.630005  402.783514 -13.153509\n",
       "1119  396.920013  401.149478  -4.229464\n",
       "1120  393.890015  409.399814 -15.509799\n",
       "1121  397.369995  392.899074   4.470921\n",
       "1122  405.309998  390.493120  14.816877"
      ]
     },
     "execution_count": 19,
     "metadata": {},
     "output_type": "execute_result"
    }
   ],
   "source": [
    "# visualization\n",
    "df3 = pd.DataFrame({\"X\": X_test.flatten(), \"y\": y_preds})\n",
    "df3['X'] = df3['X'].shift(-n)\n",
    "df3['X-y'] = df3['X'] - df3['y']\n",
    "df3=df3[:-n]\n",
    "df3.tail(n)"
   ]
  },
  {
   "cell_type": "code",
   "execution_count": 20,
   "id": "7529fb18",
   "metadata": {},
   "outputs": [
    {
     "data": {
      "text/plain": [
       "X      0\n",
       "y      0\n",
       "X-y    0\n",
       "dtype: int64"
      ]
     },
     "execution_count": 20,
     "metadata": {},
     "output_type": "execute_result"
    }
   ],
   "source": [
    "# check missing values\n",
    "df3.isnull().sum()"
   ]
  },
  {
   "cell_type": "code",
   "execution_count": 21,
   "id": "3a1fe310",
   "metadata": {},
   "outputs": [
    {
     "name": "stdout",
     "output_type": "stream",
     "text": [
      "mean Difference\t: -0.1946\n"
     ]
    }
   ],
   "source": [
    "# mean difference\n",
    "print(f'mean Difference\\t: {np.mean(df3[\"X-y\"]):0.4}')"
   ]
  },
  {
   "cell_type": "code",
   "execution_count": 22,
   "id": "d67b02cf",
   "metadata": {},
   "outputs": [
    {
     "data": {
      "image/png": "[encoded data removed]",
      "text/plain": [
       "<Figure size 1440x720 with 4 Axes>"
      ]
     },
     "metadata": {},
     "output_type": "display_data"
    }
   ],
   "source": [
    "# plot x+5 vs y_pred\n",
    "fig, ax = plt.subplots(2,2, figsize=(20,10))\n",
    "\n",
    "ax[0,0].scatter(df3['X'], df3['y'])\n",
    "ax[0,0].set_title('X+5 days vs Predicted y')\n",
    "\n",
    "# plot Predicted Price\n",
    "ax[0,1].plot(df3.index, y_preds[:-n], 'crimson')\n",
    "ax[0,1].set_title('Predicted y')\n",
    "\n",
    "# plot Residual of x+5 and y_pred \n",
    "ax[1,0].plot(df3.index, df3['X-y'])\n",
    "ax[1,0].set_title('Difference in X+5 and y_preds')\n",
    "\n",
    "# plot Histogram of Residual of x+5 and y_pred \n",
    "ax[1,1].hist(df3['X-y'], bins=50, density=False, color='orange')\n",
    "ax[1,1].set_title('Histogram of Residual of x+5 and y_preds');"
   ]
  },
  {
   "cell_type": "code",
   "execution_count": null,
   "id": "65e9d5d4",
   "metadata": {},
   "outputs": [],
   "source": []
  }
 ],
 "metadata": {
  "hide_input": false,
  "kernelspec": {
   "display_name": "Python 3 (ipykernel)",
   "language": "python",
   "name": "python3"
  },
  "language_info": {
   "codemirror_mode": {
    "name": "ipython",
    "version": 3
   },
   "file_extension": ".py",
   "mimetype": "text/x-python",
   "name": "python",
   "nbconvert_exporter": "python",
   "pygments_lexer": "ipython3",
   "version": "3.8.11"
  },
  "latex_envs": {
   "LaTeX_envs_menu_present": true,
   "autoclose": false,
   "autocomplete": true,
   "bibliofile": "biblio.bib",
   "cite_by": "apalike",
   "current_citInitial": 1,
   "eqLabelWithNumbers": true,
   "eqNumInitial": 1,
   "hotkeys": {
    "equation": "Ctrl-E",
    "itemize": "Ctrl-I"
   },
   "labels_anchors": false,
   "latex_user_defs": false,
   "report_style_numbering": false,
   "user_envs_cfg": false
  },
  "toc": {
   "base_numbering": 1,
   "nav_menu": {},
   "number_sections": true,
   "sideBar": true,
   "skip_h1_title": false,
   "title_cell": "Table of Contents",
   "title_sidebar": "Contents",
   "toc_cell": false,
   "toc_position": {},
   "toc_section_display": true,
   "toc_window_display": false
  },
  "varInspector": {
   "cols": {
    "lenName": 16,
    "lenType": 16,
    "lenVar": 40
   },
   "kernels_config": {
    "python": {
     "delete_cmd_postfix": "",
     "delete_cmd_prefix": "del ",
     "library": "var_list.py",
     "varRefreshCmd": "print(var_dic_list())"
    },
    "r": {
     "delete_cmd_postfix": ") ",
     "delete_cmd_prefix": "rm(",
     "library": "var_list.r",
     "varRefreshCmd": "cat(var_dic_list()) "
    }
   },
   "types_to_exclude": [
    "module",
    "function",
    "builtin_function_or_method",
    "instance",
    "_Feature"
   ],
   "window_display": false
  }
 },
 "nbformat": 4,
 "nbformat_minor": 5
}
